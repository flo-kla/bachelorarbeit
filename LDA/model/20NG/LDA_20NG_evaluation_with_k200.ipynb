{
 "cells": [
  {
   "cell_type": "code",
   "execution_count": 2,
   "metadata": {},
   "outputs": [
    {
     "name": "stderr",
     "output_type": "stream",
     "text": [
      "/home/flokla/anaconda3/lib/python3.8/site-packages/gensim/similarities/__init__.py:15: UserWarning: The gensim.similarities.levenshtein submodule is disabled, because the optional Levenshtein package <https://pypi.org/project/python-Levenshtein/> is unavailable. Install Levenhstein (e.g. `pip install python-Levenshtein`) to suppress this warning.\n",
      "  warnings.warn(msg)\n"
     ]
    }
   ],
   "source": [
    "#dependencies\n",
    "import re\n",
    "import numpy as np\n",
    "import pandas as pd\n",
    "import csv\n",
    "from pprint import pprint\n",
    "import math\n",
    "from sklearn.linear_model import LogisticRegression\n",
    "\n",
    "# Gensim\n",
    "import gensim\n",
    "import gensim.corpora as corpora\n",
    "from gensim.models import CoherenceModel\n",
    "from gensim.corpora.dictionary import Dictionary\n",
    "from nltk.tokenize import word_tokenize\n",
    "from gensim.models import LdaModel\n",
    "\n",
    "\n",
    "# Plotting tools\n",
    "from tqdm.notebook import tqdm\n",
    "import matplotlib.pyplot as plt\n",
    "%matplotlib inline\n",
    "\n",
    "import warnings\n",
    "warnings.filterwarnings(\"ignore\",category=DeprecationWarning)\n",
    "#load data\n",
    "#load training Data\n",
    "with open('../../../data/Datasets/20NG/idocnade/training.csv', newline='') as csvfile1:\n",
    "    data_train = pd.read_csv(csvfile1,  names=[\"Label\", \"Text\"])\n",
    "    train_fold = data_train['Text'].iloc[:9000].fillna('0')   \n",
    "    \n",
    "\n",
    "#load validation Data\n",
    "with open('../../../data/Datasets/20NG/idocnade/validation.csv', newline='') as csvfile2:\n",
    "    data_val = pd.read_csv(csvfile2,  names=[\"Label\", \"Text\"])\n",
    "    val_fold = data_val['Text'].fillna('0')     \n",
    "    \n",
    "frames = [train_fold,val_fold]\n",
    "train_data = pd.concat(frames)\n",
    "\n",
    "#load testing Data\n",
    "with open('../../../data/Datasets/20NG/idocnade/test.csv', newline='') as csvfile3:\n",
    "    data_test = pd.read_csv(csvfile3,  names=[\"Label\", \"Text\"])  \n",
    "    test_data = data_test['Text'].fillna('0')  "
   ]
  },
  {
   "cell_type": "code",
   "execution_count": 3,
   "metadata": {},
   "outputs": [],
   "source": [
    "lda = LdaModel.load('../../../LDA/model/20NG/lda.model_with_k200/lda')\n",
    "dictionary = gensim.corpora.Dictionary(train_data.str.split())\n",
    "corpus_test = [dictionary.doc2bow(text.split()) for index,text in test_data.iteritems()]\n",
    "corpus_train = [dictionary.doc2bow(text.split()) for index,text in train_data.iteritems()]"
   ]
  },
  {
   "cell_type": "code",
   "execution_count": 4,
   "metadata": {},
   "outputs": [],
   "source": [
    "#prepare log file\n",
    "results = {'PPL': [],\n",
    "                 'C_V(10)': [],\n",
    "                 'C_V(20)': [],\n",
    "                 'Topics10': [],\n",
    "           'Topics20':[],\n",
    "                 'IR_fractions': [],\n",
    "                 'IR_precision': [],\n",
    "                 'clist': [],\n",
    "                 'acc_values': [],\n",
    "                 'F1 scores': []         \n",
    "                }\n",
    "\n"
   ]
  },
  {
   "cell_type": "code",
   "execution_count": 4,
   "metadata": {},
   "outputs": [],
   "source": [
    "perplexity = lda.log_perplexity(corpus_test)\n",
    "ppl = 2**(-perplexity)\n",
    "results['PPL'].append(ppl)"
   ]
  },
  {
   "cell_type": "code",
   "execution_count": 5,
   "metadata": {},
   "outputs": [],
   "source": []
  },
  {
   "cell_type": "code",
   "execution_count": 5,
   "metadata": {},
   "outputs": [
    {
     "name": "stdout",
     "output_type": "stream",
     "text": [
      "filename:%s ../../../data/Datasets/20NG/idocnade/20NG_train.txt\n",
      "filename:%s ../../../data/Datasets/20NG/idocnade/20NG_val.txt\n",
      "filename:%s ../../../data/Datasets/20NG/idocnade/20NG_test.txt\n"
     ]
    }
   ],
   "source": [
    "text_filenames = [\n",
    "    \"../../../data/Datasets/20NG/idocnade/20NG_train.txt\",\n",
    "    \"../../../data/Datasets/20NG/idocnade/20NG_val.txt\",\n",
    "    \"../../../data/Datasets/20NG/idocnade/20NG_test.txt\"\n",
    "]\n",
    "\n",
    "# read original text documents as list of words\n",
    "texts = []\n",
    "\n",
    "for file in text_filenames:\n",
    "    print('filename:%s', file)\n",
    "    for line in open(file.rstrip('\\r'), 'r').readlines():\n",
    "        document = str(line).split('\\t')[1]\n",
    "        document = document.encode(encoding=\"utf-8\",errors=\"ignore\").decode('utf-8',errors='ignore')\n",
    "        texts.append(document.split())"
   ]
  },
  {
   "cell_type": "code",
   "execution_count": 7,
   "metadata": {},
   "outputs": [],
   "source": [
    "cv = []\n",
    "topic_words=[]\n",
    "for j in [10,20]:\n",
    "    for i in range(0,9):\n",
    "        arr = lda.show_topic(1,j)\n",
    "        topics = []\n",
    "        for (word,number)in arr:\n",
    "            topics.append(word)\n",
    "        topic_words.append(topics)    \n",
    "    PMI = CoherenceModel(topics=topic_words, texts=texts, dictionary=dictionary, coherence=\"c_v\").get_coherence()\n",
    "    cv.append(PMI)\n",
    "results[\"C_V(10)\"].append(cv[0])\n",
    "results[\"C_V(20)\"].append(cv[1])"
   ]
  },
  {
   "cell_type": "code",
   "execution_count": null,
   "metadata": {},
   "outputs": [],
   "source": []
  },
  {
   "cell_type": "code",
   "execution_count": 6,
   "metadata": {},
   "outputs": [],
   "source": [
    "results[\"Topics10\"].append(lda.top_topics(10,texts=texts, dictionary=dictionary, coherence=\"c_v\"))\n",
    "results[\"Topics20\"].append(lda.top_topics(20,texts=texts, dictionary=dictionary, coherence=\"c_v\"))"
   ]
  },
  {
   "cell_type": "code",
   "execution_count": 9,
   "metadata": {},
   "outputs": [],
   "source": [
    "#helper functions \n",
    "#get closest docs\n",
    "def closest_docs_by_index(corpus_vectors, query_vectors, n_docs):\n",
    "    docs = []\n",
    "    sim = pw.cosine_similarity(corpus_vectors, query_vectors)\n",
    "    order = np.argsort(sim, axis=0)[::-1]\n",
    "    for i in range(len(query_vectors)):\n",
    "        docs.append(order[:, i][0:n_docs])\n",
    "    return np.array(docs)\n",
    "\n",
    "#precision\n",
    "def precision(label, predictions):\n",
    "    if len(predictions):\n",
    "        return float(\n",
    "            len([x for x in predictions if label in x])\n",
    "        ) / len(predictions)\n",
    "    else:\n",
    "        return 0.0"
   ]
  },
  {
   "cell_type": "code",
   "execution_count": 10,
   "metadata": {},
   "outputs": [],
   "source": [
    "#labels\n",
    "train_file = \"../../../data/Datasets/20NG/idocnade/training_docnade.csv\"\n",
    "train_labels = []\n",
    "val_file = \"../../../data/Datasets/20NG/idocnade/validation_docnade.csv\"\n",
    "val_labels = []\n",
    "test_file = \"../../../data/Datasets/20NG/idocnade/test_docnade.csv\"\n",
    "test_labels = []\n",
    "\n",
    "with open(train_file, newline='') as f:\n",
    "    reader = csv.reader(f)\n",
    "    for row in reader:\n",
    "        train_labels.append([row[0]])\n",
    "train_labels = np.array(train_labels)[:9000]\n",
    "with open(val_file, newline='') as f:\n",
    "    reader = csv.reader(f)\n",
    "    for row in reader:\n",
    "        val_labels.append([row[0]])\n",
    "val_labels = np.array(val_labels)\n",
    "with open(test_file, newline='') as f:\n",
    "    reader = csv.reader(f)\n",
    "    for row in reader:\n",
    "        test_labels.append([row[0]])\n",
    "test_labels = np.array(test_labels)[:7500]  \n"
   ]
  },
  {
   "cell_type": "code",
   "execution_count": 11,
   "metadata": {},
   "outputs": [
    {
     "data": {
      "text/plain": [
       "'import sklearn.metrics.pairwise as pw\\nir_ratio_list = [0.0001, 0.0005, 0.001, 0.002, 0.005, 0.01, 0.02, 0.05, 0.1, 0.2, 0.3, 0.5, 0.8, 1.0]\\n#ir_ratio_list = [0.02]\\nresults[\"IR_fractions\"].append(ir_ratio_list)    \\n\\n#hidden vec representations\\ncorpus_train = [dictionary.doc2bow(text.split()) for index,text in train_fold.iteritems()]\\ncorpus_vectors = []\\nfor doc in corpus_train:\\n    corpus_vectors.extend(lda[doc])\\ncorpus_vectors = np.array(corpus_vectors)    \\n  \\ncorpus_test = [dictionary.doc2bow(text.split()) for index,text in test_data[:7500].iteritems()]\\nquery_vectors = []\\nfor doc in corpus_test:\\n    query_vectors.extend(lda[doc])\\nquery_vectors = np.array(query_vectors)\\n\\n\\n##ir\\ncorpus_size = len(train_labels)\\nquery_size = len(test_labels)\\n\\nresult = []\\nfor r in ir_ratio_list:\\n    n_docs = int((corpus_size * r) + 0.5)\\n    if not n_docs:\\n        results.append(0.0)\\n        continue\\n\\n    closest = closest_docs_by_index(corpus_vectors, query_vectors, n_docs)\\n\\n    avg = 0.0\\n    for i in range(query_size):\\n        doc_labels = query_labels[i]\\n        doc_avg = 0.0\\n        for label in doc_labels:\\n            doc_avg += precision(label, corpus_labels[closest[i]])\\n        doc_avg /= len(doc_labels)\\n        avg += doc_avg\\n    avg /= query_size\\n    result.append(avg)\\nresults[\"IR_precision\"].append(result)\\n\\n'"
      ]
     },
     "execution_count": 11,
     "metadata": {},
     "output_type": "execute_result"
    }
   ],
   "source": [
    "\"\"\"import sklearn.metrics.pairwise as pw\n",
    "ir_ratio_list = [0.0001, 0.0005, 0.001, 0.002, 0.005, 0.01, 0.02, 0.05, 0.1, 0.2, 0.3, 0.5, 0.8, 1.0]\n",
    "#ir_ratio_list = [0.02]\n",
    "results[\"IR_fractions\"].append(ir_ratio_list)    \n",
    "\n",
    "#hidden vec representations\n",
    "corpus_train = [dictionary.doc2bow(text.split()) for index,text in train_fold.iteritems()]\n",
    "corpus_vectors = []\n",
    "for doc in corpus_train:\n",
    "    corpus_vectors.extend(lda[doc])\n",
    "corpus_vectors = np.array(corpus_vectors)    \n",
    "  \n",
    "corpus_test = [dictionary.doc2bow(text.split()) for index,text in test_data[:7500].iteritems()]\n",
    "query_vectors = []\n",
    "for doc in corpus_test:\n",
    "    query_vectors.extend(lda[doc])\n",
    "query_vectors = np.array(query_vectors)\n",
    "\n",
    "\n",
    "##ir\n",
    "corpus_size = len(train_labels)\n",
    "query_size = len(test_labels)\n",
    "\n",
    "result = []\n",
    "for r in ir_ratio_list:\n",
    "    n_docs = int((corpus_size * r) + 0.5)\n",
    "    if not n_docs:\n",
    "        results.append(0.0)\n",
    "        continue\n",
    "\n",
    "    closest = closest_docs_by_index(corpus_vectors, query_vectors, n_docs)\n",
    "\n",
    "    avg = 0.0\n",
    "    for i in range(query_size):\n",
    "        doc_labels = query_labels[i]\n",
    "        doc_avg = 0.0\n",
    "        for label in doc_labels:\n",
    "            doc_avg += precision(label, corpus_labels[closest[i]])\n",
    "        doc_avg /= len(doc_labels)\n",
    "        avg += doc_avg\n",
    "    avg /= query_size\n",
    "    result.append(avg)\n",
    "results[\"IR_precision\"].append(result)\n",
    "\n",
    "\"\"\""
   ]
  },
  {
   "cell_type": "code",
   "execution_count": 12,
   "metadata": {},
   "outputs": [
    {
     "name": "stderr",
     "output_type": "stream",
     "text": [
      "/home/flokla/anaconda3/lib/python3.8/site-packages/sklearn/utils/validation.py:72: DataConversionWarning: A column-vector y was passed when a 1d array was expected. Please change the shape of y to (n_samples, ), for example using ravel().\n",
      "  return f(**kwargs)\n",
      "/home/flokla/anaconda3/lib/python3.8/site-packages/sklearn/metrics/_classification.py:1221: UndefinedMetricWarning: Precision and F-score are ill-defined and being set to 0.0 in labels with no predicted samples. Use `zero_division` parameter to control this behavior.\n",
      "  _warn_prf(average, modifier, msg_start, len(result))\n",
      "/home/flokla/anaconda3/lib/python3.8/site-packages/sklearn/utils/validation.py:72: DataConversionWarning: A column-vector y was passed when a 1d array was expected. Please change the shape of y to (n_samples, ), for example using ravel().\n",
      "  return f(**kwargs)\n",
      "/home/flokla/anaconda3/lib/python3.8/site-packages/sklearn/metrics/_classification.py:1221: UndefinedMetricWarning: Precision and F-score are ill-defined and being set to 0.0 in labels with no predicted samples. Use `zero_division` parameter to control this behavior.\n",
      "  _warn_prf(average, modifier, msg_start, len(result))\n",
      "/home/flokla/anaconda3/lib/python3.8/site-packages/sklearn/utils/validation.py:72: DataConversionWarning: A column-vector y was passed when a 1d array was expected. Please change the shape of y to (n_samples, ), for example using ravel().\n",
      "  return f(**kwargs)\n",
      "/home/flokla/anaconda3/lib/python3.8/site-packages/sklearn/metrics/_classification.py:1221: UndefinedMetricWarning: Precision and F-score are ill-defined and being set to 0.0 in labels with no predicted samples. Use `zero_division` parameter to control this behavior.\n",
      "  _warn_prf(average, modifier, msg_start, len(result))\n",
      "/home/flokla/anaconda3/lib/python3.8/site-packages/sklearn/utils/validation.py:72: DataConversionWarning: A column-vector y was passed when a 1d array was expected. Please change the shape of y to (n_samples, ), for example using ravel().\n",
      "  return f(**kwargs)\n",
      "/home/flokla/anaconda3/lib/python3.8/site-packages/sklearn/metrics/_classification.py:1221: UndefinedMetricWarning: Precision and F-score are ill-defined and being set to 0.0 in labels with no predicted samples. Use `zero_division` parameter to control this behavior.\n",
      "  _warn_prf(average, modifier, msg_start, len(result))\n",
      "/home/flokla/anaconda3/lib/python3.8/site-packages/sklearn/utils/validation.py:72: DataConversionWarning: A column-vector y was passed when a 1d array was expected. Please change the shape of y to (n_samples, ), for example using ravel().\n",
      "  return f(**kwargs)\n",
      "/home/flokla/anaconda3/lib/python3.8/site-packages/sklearn/metrics/_classification.py:1221: UndefinedMetricWarning: Precision and F-score are ill-defined and being set to 0.0 in labels with no predicted samples. Use `zero_division` parameter to control this behavior.\n",
      "  _warn_prf(average, modifier, msg_start, len(result))\n",
      "/home/flokla/anaconda3/lib/python3.8/site-packages/sklearn/utils/validation.py:72: DataConversionWarning: A column-vector y was passed when a 1d array was expected. Please change the shape of y to (n_samples, ), for example using ravel().\n",
      "  return f(**kwargs)\n",
      "/home/flokla/anaconda3/lib/python3.8/site-packages/sklearn/metrics/_classification.py:1221: UndefinedMetricWarning: Precision and F-score are ill-defined and being set to 0.0 in labels with no predicted samples. Use `zero_division` parameter to control this behavior.\n",
      "  _warn_prf(average, modifier, msg_start, len(result))\n",
      "/home/flokla/anaconda3/lib/python3.8/site-packages/sklearn/utils/validation.py:72: DataConversionWarning: A column-vector y was passed when a 1d array was expected. Please change the shape of y to (n_samples, ), for example using ravel().\n",
      "  return f(**kwargs)\n",
      "/home/flokla/anaconda3/lib/python3.8/site-packages/sklearn/metrics/_classification.py:1221: UndefinedMetricWarning: Precision and F-score are ill-defined and being set to 0.0 in labels with no predicted samples. Use `zero_division` parameter to control this behavior.\n",
      "  _warn_prf(average, modifier, msg_start, len(result))\n",
      "/home/flokla/anaconda3/lib/python3.8/site-packages/sklearn/utils/validation.py:72: DataConversionWarning: A column-vector y was passed when a 1d array was expected. Please change the shape of y to (n_samples, ), for example using ravel().\n",
      "  return f(**kwargs)\n",
      "/home/flokla/anaconda3/lib/python3.8/site-packages/sklearn/metrics/_classification.py:1221: UndefinedMetricWarning: Precision and F-score are ill-defined and being set to 0.0 in labels with no predicted samples. Use `zero_division` parameter to control this behavior.\n",
      "  _warn_prf(average, modifier, msg_start, len(result))\n",
      "/home/flokla/anaconda3/lib/python3.8/site-packages/sklearn/utils/validation.py:72: DataConversionWarning: A column-vector y was passed when a 1d array was expected. Please change the shape of y to (n_samples, ), for example using ravel().\n",
      "  return f(**kwargs)\n",
      "/home/flokla/anaconda3/lib/python3.8/site-packages/sklearn/metrics/_classification.py:1221: UndefinedMetricWarning: Precision and F-score are ill-defined and being set to 0.0 in labels with no predicted samples. Use `zero_division` parameter to control this behavior.\n",
      "  _warn_prf(average, modifier, msg_start, len(result))\n",
      "/home/flokla/anaconda3/lib/python3.8/site-packages/sklearn/utils/validation.py:72: DataConversionWarning: A column-vector y was passed when a 1d array was expected. Please change the shape of y to (n_samples, ), for example using ravel().\n",
      "  return f(**kwargs)\n",
      "/home/flokla/anaconda3/lib/python3.8/site-packages/sklearn/metrics/_classification.py:1221: UndefinedMetricWarning: Precision and F-score are ill-defined and being set to 0.0 in labels with no predicted samples. Use `zero_division` parameter to control this behavior.\n",
      "  _warn_prf(average, modifier, msg_start, len(result))\n",
      "/home/flokla/anaconda3/lib/python3.8/site-packages/sklearn/utils/validation.py:72: DataConversionWarning: A column-vector y was passed when a 1d array was expected. Please change the shape of y to (n_samples, ), for example using ravel().\n",
      "  return f(**kwargs)\n",
      "/home/flokla/anaconda3/lib/python3.8/site-packages/sklearn/metrics/_classification.py:1221: UndefinedMetricWarning: Precision and F-score are ill-defined and being set to 0.0 in labels with no predicted samples. Use `zero_division` parameter to control this behavior.\n",
      "  _warn_prf(average, modifier, msg_start, len(result))\n",
      "/home/flokla/anaconda3/lib/python3.8/site-packages/sklearn/utils/validation.py:72: DataConversionWarning: A column-vector y was passed when a 1d array was expected. Please change the shape of y to (n_samples, ), for example using ravel().\n",
      "  return f(**kwargs)\n",
      "/home/flokla/anaconda3/lib/python3.8/site-packages/sklearn/metrics/_classification.py:1221: UndefinedMetricWarning: Precision and F-score are ill-defined and being set to 0.0 in labels with no predicted samples. Use `zero_division` parameter to control this behavior.\n",
      "  _warn_prf(average, modifier, msg_start, len(result))\n",
      "/home/flokla/anaconda3/lib/python3.8/site-packages/sklearn/utils/validation.py:72: DataConversionWarning: A column-vector y was passed when a 1d array was expected. Please change the shape of y to (n_samples, ), for example using ravel().\n",
      "  return f(**kwargs)\n",
      "/home/flokla/anaconda3/lib/python3.8/site-packages/sklearn/metrics/_classification.py:1221: UndefinedMetricWarning: Precision and F-score are ill-defined and being set to 0.0 in labels with no predicted samples. Use `zero_division` parameter to control this behavior.\n",
      "  _warn_prf(average, modifier, msg_start, len(result))\n"
     ]
    }
   ],
   "source": [
    "from sklearn.metrics import accuracy_score, precision_recall_fscore_support\n",
    "##classification \n",
    "c_list = [0.0001, 0.001, 0.01, 0.1, 0.5, 1.0, 3.0, 5.0, 10.0, 100.0, 500.0, 1000.0, 10000.0]\n",
    "results[\"clist\"].append(c_list)\n",
    "\n",
    "#vector representations\n",
    "corpus_train = [dictionary.doc2bow(text.split()) for index,text in train_fold.iteritems()]\n",
    "corpus_vectors = []\n",
    "for doc in corpus_train:\n",
    "    vec= lda.get_document_topics(doc, minimum_probability=0)\n",
    "    vecs = [e[1] for e in vec]   \n",
    "    corpus_vectors+=vecs\n",
    "corpus_vectors = np.array(corpus_vectors).reshape(9000,200)\n",
    "  \n",
    "corpus_test = [dictionary.doc2bow(text.split()) for index,text in test_data[:7500].iteritems()]\n",
    "query_vectors = []\n",
    "for doc in corpus_test:\n",
    "    vec= lda.get_document_topics(doc, minimum_probability=0)\n",
    "    vecs = [e[1] for e in vec]   \n",
    "    query_vectors+=vecs\n",
    "query_vectors = np.array(query_vectors).reshape(7500,200) \n",
    "\n",
    "\n",
    "#\n",
    "test_acc = []\n",
    "test_f1  = []\n",
    "\n",
    "for c in c_list:\n",
    "    clf = LogisticRegression(C=c,max_iter=1000000)\n",
    "    clf.fit(corpus_vectors, train_labels)\n",
    "    pred_test_labels = clf.predict(query_vectors)\n",
    "\n",
    "    acc_test = accuracy_score(test_labels, pred_test_labels)\n",
    "    f1_test = precision_recall_fscore_support(test_labels, pred_test_labels, pos_label=None, average='macro')[2]\n",
    "\n",
    "    test_acc.append(acc_test)\n",
    "    test_f1.append(f1_test)\n",
    "results[\"acc_values\"].append(test_acc)\n",
    "results[\"F1 scores\"].append(test_f1)"
   ]
  },
  {
   "cell_type": "code",
   "execution_count": 13,
   "metadata": {},
   "outputs": [],
   "source": [
    "with open('../../../LDA/model/20NG/eval_results_with_k200.txt', 'w') as f:\n",
    "    print(results, file=f)"
   ]
  },
  {
   "cell_type": "code",
   "execution_count": null,
   "metadata": {},
   "outputs": [],
   "source": []
  },
  {
   "cell_type": "code",
   "execution_count": 7,
   "metadata": {},
   "outputs": [],
   "source": []
  },
  {
   "cell_type": "raw",
   "metadata": {},
   "source": []
  },
  {
   "cell_type": "code",
   "execution_count": null,
   "metadata": {},
   "outputs": [],
   "source": []
  },
  {
   "cell_type": "code",
   "execution_count": null,
   "metadata": {},
   "outputs": [],
   "source": []
  },
  {
   "cell_type": "code",
   "execution_count": null,
   "metadata": {},
   "outputs": [],
   "source": []
  },
  {
   "cell_type": "code",
   "execution_count": null,
   "metadata": {},
   "outputs": [],
   "source": []
  },
  {
   "cell_type": "code",
   "execution_count": null,
   "metadata": {},
   "outputs": [],
   "source": []
  }
 ],
 "metadata": {
  "kernelspec": {
   "display_name": "Python 3",
   "language": "python",
   "name": "python3"
  },
  "language_info": {
   "codemirror_mode": {
    "name": "ipython",
    "version": 3
   },
   "file_extension": ".py",
   "mimetype": "text/x-python",
   "name": "python",
   "nbconvert_exporter": "python",
   "pygments_lexer": "ipython3",
   "version": "3.8.5"
  }
 },
 "nbformat": 4,
 "nbformat_minor": 4
}
