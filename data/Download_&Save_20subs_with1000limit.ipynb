{
 "cells": [
  {
   "cell_type": "code",
   "execution_count": 1,
   "metadata": {},
   "outputs": [],
   "source": [
    "import sqlite3\n",
    "from sqlite3 import Error\n",
    "import pandas as pd\n",
    "\n",
    "\n",
    "def create_connection(db_file):\n",
    "    \"\"\" create a database connection to the SQLite database\n",
    "        specified by the db_file\n",
    "    :param db_file: database file\n",
    "    :return: Connection object or None\n",
    "    \"\"\"\n",
    "    conn = None\n",
    "    try:\n",
    "        conn = sqlite3.connect(db_file)\n",
    "    except Error as e:\n",
    "        print(e)\n",
    "\n",
    "    return conn\n",
    "\n",
    "\n",
    "def select_all_tasks(conn,query):\n",
    "    \"\"\"\n",
    "    Query all rows in the tasks table\n",
    "    :param conn: the Connection object\n",
    "    :return:\n",
    "    \"\"\"\n",
    "    cur = conn.cursor()\n",
    "    cur.execute(query)\n",
    "\n",
    "    rows = cur.fetchall()\n",
    "    return rows    \n",
    "\n",
    "#\"SELECT body FROM May2015 WHERE subreddit = 'hockey'\"\n"
   ]
  },
  {
   "cell_type": "code",
   "execution_count": 2,
   "metadata": {},
   "outputs": [],
   "source": [
    "\n",
    "database = \"C:/Users/flori/Dropbox/Desktop/bachelorarbeit/realshit/Datasets/20subs/database.sqlite\"\n",
    "\n",
    "    # create a database connection\n",
    "conn = create_connection(database)\n",
    "with conn:\n",
    "    df_hockey = pd.DataFrame(select_all_tasks(conn,\"SELECT body FROM May2015 WHERE subreddit = 'hockey' LIMIT 1000\"))\n",
    "    df_politics = pd.DataFrame(select_all_tasks(conn,\"SELECT body FROM May2015 WHERE subreddit = 'politics' LIMIT 1000\"))\n",
    "    df_atheism = pd.DataFrame(select_all_tasks(conn,\"SELECT body FROM May2015 WHERE subreddit = 'atheism' LIMIT 1000\"))\n",
    "    df_baseball = pd.DataFrame(select_all_tasks(conn,\"SELECT body FROM May2015 WHERE subreddit = 'baseball' LIMIT 1000\"))\n",
    "    df_bitcoin = pd.DataFrame(select_all_tasks(conn,\"SELECT body FROM May2015 WHERE subreddit = 'Bitcoin' LIMIT 1000\"))\n",
    "    df_christianity = pd.DataFrame(select_all_tasks(conn,\"SELECT body FROM May2015 WHERE subreddit = 'Christianity' LIMIT 1000\"))\n",
    "    df_cars = pd.DataFrame(select_all_tasks(conn,\"SELECT body FROM May2015 WHERE subreddit = 'cars' LIMIT 1000\"))\n",
    "    df_motorcycles = pd.DataFrame(select_all_tasks(conn,\"SELECT body FROM May2015 WHERE subreddit = 'motorcycles' LIMIT 1000\"))\n",
    "    df_guns = pd.DataFrame(select_all_tasks(conn,\"SELECT body FROM May2015 WHERE subreddit = 'guns' LIMIT 1000\"))\n",
    "    df_space = pd.DataFrame(select_all_tasks(conn,\"SELECT body FROM May2015 WHERE subreddit = 'space' LIMIT 1000\"))\n",
    "    df_debatereligion = pd.DataFrame(select_all_tasks(conn,\"SELECT body FROM May2015 WHERE subreddit = 'DebateReligion' LIMIT 1000\"))\n",
    "    df_worldpolitics = pd.DataFrame(select_all_tasks(conn,\"SELECT body FROM May2015 WHERE subreddit = 'worldpolitics' LIMIT 1000\"))\n",
    "    df_gamesale = pd.DataFrame(select_all_tasks(conn,\"SELECT body FROM May2015 WHERE subreddit = 'GameSale' LIMIT 1000\"))\n",
    "    df_hardware = pd.DataFrame(select_all_tasks(conn,\"SELECT body FROM May2015 WHERE subreddit = 'hardware' LIMIT 1000\"))\n",
    "    df_medicalschool = pd.DataFrame(select_all_tasks(conn,\"SELECT body FROM May2015 WHERE subreddit = 'medicalschool' LIMIT 1000\"))\n",
    "    df_windows10 = pd.DataFrame(select_all_tasks(conn,\"SELECT body FROM May2015 WHERE subreddit = 'Windows10' LIMIT 1000\"))\n",
    "    df_mac = pd.DataFrame(select_all_tasks(conn,\"SELECT body FROM May2015 WHERE subreddit = 'mac' LIMIT 1000\"))\n",
    "    df_graphicdesign = pd.DataFrame(select_all_tasks(conn,\"SELECT body FROM May2015 WHERE subreddit = 'graphic_design' LIMIT 1000\"))\n",
    "    df_askelectronics = pd.DataFrame(select_all_tasks(conn,\"SELECT body FROM May2015 WHERE subreddit = 'AskElectronics' LIMIT 1000\"))\n",
    "    df_windows = pd.DataFrame(select_all_tasks(conn,\"SELECT body FROM May2015 WHERE subreddit = 'windows' LIMIT 1000\"))"
   ]
  },
  {
   "cell_type": "code",
   "execution_count": 3,
   "metadata": {},
   "outputs": [],
   "source": [
    "df_hockey[\"label\"] = \"hockey\"\n",
    "df_politics[\"label\"] = \"politics\"\n",
    "df_atheism[\"label\"] = \"atheism\"\n",
    "df_baseball[\"label\"] = \"baseball\"\n",
    "df_bitcoin[\"label\"] = \"Bitcoin\"\n",
    "df_christianity[\"label\"] = \"Christianity\"\n",
    "df_cars[\"label\"] = \"cars\"\n",
    "df_motorcycles[\"label\"] = \"motorcycles\"\n",
    "df_guns[\"label\"] = \"guns\"\n",
    "df_space[\"label\"] = \"space\"\n",
    "df_debatereligion[\"label\"] = \"DebateReligion\"\n",
    "df_worldpolitics[\"label\"] = \"worldpolitics\"\n",
    "df_gamesale[\"label\"] = \"GameSale\"\n",
    "df_hardware[\"label\"] = \"hardware\"\n",
    "df_medicalschool[\"label\"] = \"medicalschool\"\n",
    "df_windows10[\"label\"] = \"Windows10\"\n",
    "df_mac[\"label\"] = \"mac\"\n",
    "df_graphicdesign[\"label\"] =\"graphic_design\"\n",
    "df_askelectronics[\"label\"] = \"AskElectronics\"\n",
    "df_windows[\"label\"] = \"windows\""
   ]
  },
  {
   "cell_type": "code",
   "execution_count": 4,
   "metadata": {},
   "outputs": [],
   "source": [
    "df_hockey.to_excel(\"C:/Users/flori/Dropbox/Desktop/bachelorarbeit/realshit/Datasets/20subs/processed/hockey.xlsx\")\n",
    "df_politics.to_excel(\"C:/Users/flori/Dropbox/Desktop/bachelorarbeit/realshit/Datasets/20subs/processed/politics.xlsx\")\n",
    "df_atheism.to_excel(\"C:/Users/flori/Dropbox/Desktop/bachelorarbeit/realshit/Datasets/20subs/processed/atheism.xlsx\")\n",
    "df_baseball.to_excel(\"C:/Users/flori/Dropbox/Desktop/bachelorarbeit/realshit/Datasets/20subs/processed/baseball.xlsx\")\n",
    "df_bitcoin.to_excel(\"C:/Users/flori/Dropbox/Desktop/bachelorarbeit/realshit/Datasets/20subs/processed/bitcoin.xlsx\")   \n",
    "df_christianity.to_excel(\"C:/Users/flori/Dropbox/Desktop/bachelorarbeit/realshit/Datasets/20subs/processed/christianity.xlsx\")  \n",
    "df_cars.to_excel(\"C:/Users/flori/Dropbox/Desktop/bachelorarbeit/realshit/Datasets/20subs/processed/cars.xlsx\")    \n",
    "df_motorcycles.to_excel(\"C:/Users/flori/Dropbox/Desktop/bachelorarbeit/realshit/Datasets/20subs/processed/motorcycles.xlsx\") \n",
    "df_guns.to_excel(\"C:/Users/flori/Dropbox/Desktop/bachelorarbeit/realshit/Datasets/20subs/processed/guns.xlsx\")\n",
    "                 \n",
    "df_space.to_excel(\"C:/Users/flori/Dropbox/Desktop/bachelorarbeit/realshit/Datasets/20subs/processed/space.xlsx\")\n",
    "df_debatereligion.to_excel(\"C:/Users/flori/Dropbox/Desktop/bachelorarbeit/realshit/Datasets/20subs/processed/debatereligion.xlsx\")     \n",
    "df_worldpolitics.to_excel(\"C:/Users/flori/Dropbox/Desktop/bachelorarbeit/realshit/Datasets/20subs/processed/worldpolitics.xlsx\")\n",
    "df_gamesale.to_excel(\"C:/Users/flori/Dropbox/Desktop/bachelorarbeit/realshit/Datasets/20subs/processed/gamesale.xlsx\")\n",
    "df_hardware.to_excel(\"C:/Users/flori/Dropbox/Desktop/bachelorarbeit/realshit/Datasets/20subs/processed/hardware.xlsx\")\n",
    "df_medicalschool.to_excel(\"C:/Users/flori/Dropbox/Desktop/bachelorarbeit/realshit/Datasets/20subs/processed/medicalschool.xlsx\") \n",
    "df_windows10.to_excel(\"C:/Users/flori/Dropbox/Desktop/bachelorarbeit/realshit/Datasets/20subs/processed/windows10.xlsx\")\n",
    "df_mac.to_excel(\"C:/Users/flori/Dropbox/Desktop/bachelorarbeit/realshit/Datasets/20subs/processed/mac.xlsx\")  \n",
    "df_graphicdesign.to_excel(\"C:/Users/flori/Dropbox/Desktop/bachelorarbeit/realshit/Datasets/20subs/processed/graphicdesign.xlsx\")\n",
    "df_askelectronics.to_excel(\"C:/Users/flori/Dropbox/Desktop/bachelorarbeit/realshit/Datasets/20subs/processed/askelectronics.xlsx\")\n",
    "df_windows.to_excel(\"C:/Users/flori/Dropbox/Desktop/bachelorarbeit/realshit/Datasets/20subs/processed/windows.xlsx\")                   "
   ]
  },
  {
   "cell_type": "code",
   "execution_count": 5,
   "metadata": {},
   "outputs": [],
   "source": [
    "frames = [df_hockey,df_politics,df_atheism,df_baseball, df_bitcoin,df_christianity,df_cars,df_motorcycles,df_guns,df_space,df_debatereligion,df_worldpolitics,df_gamesale,df_hardware,df_medicalschool,df_windows10,df_mac,df_graphicdesign,df_askelectronics,df_windows]\n",
    "data = pd.concat(frames)\n",
    "data.to_excel(\"C:/Users/flori/Dropbox/Desktop/bachelorarbeit/realshit/Datasets/20subs/processed/full_data.xlsx\")"
   ]
  },
  {
   "cell_type": "code",
   "execution_count": 6,
   "metadata": {},
   "outputs": [],
   "source": [
    "test_frames=[df_hockey[:400],df_politics[:400],df_atheism[:400],df_baseball[:400], df_bitcoin[:400],df_christianity[:400],df_cars[:400],df_motorcycles[:400],df_guns[:400],df_space[:400],df_debatereligion[:400],df_worldpolitics[:400],df_gamesale[:400],df_hardware[:400],df_medicalschool[:400],df_windows10[:400],df_mac[:400],df_graphicdesign[:400],df_askelectronics[:400],df_windows[:400]]\n",
    "test_data = pd.concat(test_frames)\n",
    "test_data.to_excel(\"C:/Users/flori/Dropbox/Desktop/bachelorarbeit/realshit/Datasets/20subs/processed/test_data.xlsx\")"
   ]
  },
  {
   "cell_type": "code",
   "execution_count": 7,
   "metadata": {},
   "outputs": [],
   "source": [
    "train_frames=[df_hockey[400:],df_politics[400:],df_atheism[400:],df_baseball[400:], df_bitcoin[400:],df_christianity[400:],df_cars[400:],df_motorcycles[400:],df_guns[400:],df_space[400:],df_debatereligion[400:],df_worldpolitics[400:],df_gamesale[400:],df_hardware[:400],df_medicalschool[400:],df_windows10[400:],df_mac[400:],df_graphicdesign[400:],df_askelectronics[400:],df_windows[400:]]\n",
    "train_data = pd.concat(train_frames)\n",
    "train_data.to_excel(\"C:/Users/flori/Dropbox/Desktop/bachelorarbeit/realshit/Datasets/20subs/processed/train_data.xlsx\")"
   ]
  },
  {
   "cell_type": "code",
   "execution_count": null,
   "metadata": {},
   "outputs": [],
   "source": []
  }
 ],
 "metadata": {
  "kernelspec": {
   "display_name": "Python 3",
   "language": "python",
   "name": "python3"
  },
  "language_info": {
   "codemirror_mode": {
    "name": "ipython",
    "version": 3
   },
   "file_extension": ".py",
   "mimetype": "text/x-python",
   "name": "python",
   "nbconvert_exporter": "python",
   "pygments_lexer": "ipython3",
   "version": "3.8.5"
  }
 },
 "nbformat": 4,
 "nbformat_minor": 4
}
