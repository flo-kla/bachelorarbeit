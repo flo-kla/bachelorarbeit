{
 "cells": [
  {
   "cell_type": "code",
   "execution_count": null,
   "metadata": {},
   "outputs": [],
   "source": []
  },
  {
   "cell_type": "code",
   "execution_count": 23,
   "metadata": {},
   "outputs": [],
   "source": [
    "import re\n",
    "import numpy as np\n",
    "import pandas as pd\n",
    "import csv\n",
    "from pprint import pprint\n",
    "import math\n",
    "\n",
    "# Gensim\n",
    "import gensim\n",
    "import gensim.corpora as corpora\n",
    "from gensim.models import CoherenceModel\n",
    "from gensim.corpora.dictionary import Dictionary\n",
    "from nltk.tokenize import word_tokenize\n",
    "\n",
    "\n",
    "\n",
    "# Plotting tools\n",
    "from tqdm.notebook import tqdm\n",
    "import matplotlib.pyplot as plt\n",
    "%matplotlib inline\n",
    "\n",
    "import warnings\n",
    "warnings.filterwarnings(\"ignore\",category=DeprecationWarning)"
   ]
  },
  {
   "cell_type": "code",
   "execution_count": 28,
   "metadata": {},
   "outputs": [],
   "source": [
    "#load training Data\n",
    "with open('C:/Users/flori/Dropbox/Desktop/bachelorarbeit/realshit/Datasets/20subs/idocnade/training.csv', newline='') as csvfile1:\n",
    "    data_train = pd.read_csv(csvfile1,  names=[\"Label\", \"Text\"])\n",
    "    data_train = data_train.dropna(subset=['Text'])   \n",
    "\n",
    "#load validation Data\n",
    "with open('C:/Users/flori/Dropbox/Desktop/bachelorarbeit/realshit/Datasets/20subs/idocnade/validation.csv', newline='') as csvfile2:\n",
    "    data_val = pd.read_csv(csvfile2,  names=[\"Label\", \"Text\"])\n",
    "    data_val = data_val.dropna(subset=['Text'])     \n",
    "    \n",
    "frames = [data_train,data_val]\n",
    "train_data = pd.concat(frames)\n",
    "\n",
    "#load testing Data\n",
    "with open('C:/Users/flori/Dropbox/Desktop/bachelorarbeit/realshit/Datasets/20subs/idocnade/test.csv', newline='') as csvfile3:\n",
    "    data_test = pd.read_csv(csvfile3,  names=[\"Label\", \"Text\"])  \n",
    "    data_test = data_test.dropna(subset=['Text'])  "
   ]
  },
  {
   "cell_type": "code",
   "execution_count": 25,
   "metadata": {},
   "outputs": [],
   "source": [
    "def LdaPipeline(train_fold, val_fold, k):\n",
    "\n",
    "    dictionary = gensim.corpora.Dictionary(train_fold[\"Text\"].str.split())\n",
    "    corpus_train = [dictionary.doc2bow(text.split()) for index,text in train_fold[\"Text\"].iteritems()]\n",
    "    corpus_val = [dictionary.doc2bow(text.split()) for index,text in val_fold[\"Text\"].iteritems()]\n",
    "    # LDA\n",
    "    lda_model = gensim.models.LdaMulticore(corpus=corpus_train, id2word = dictionary, num_topics = k, alpha=0.1,workers=15)\n",
    "    \n",
    "    # Perplexity\n",
    "    perplexity = lda_model.log_perplexity(corpus_val)\n",
    "   \n",
    "    # Coherence\n",
    "    texts = [[dictionary[word_id] for word_id, freq in doc] for doc in corpus_val]\n",
    "    coherence_model = gensim.models.coherencemodel.CoherenceModel(model=lda_model, corpus=corpus_train, texts = texts,coherence='c_v')\n",
    "    coherence = coherence_model.get_coherence()\n",
    "    return [2**(-perplexity), coherence]\n",
    "\n"
   ]
  },
  {
   "cell_type": "code",
   "execution_count": 4,
   "metadata": {},
   "outputs": [],
   "source": [
    "START = 2\n",
    "STEP = 1\n",
    "END = 200\n"
   ]
  },
  {
   "cell_type": "code",
   "execution_count": 5,
   "metadata": {},
   "outputs": [
    {
     "data": {
      "application/vnd.jupyter.widget-view+json": {
       "model_id": "a71c44da7c684c249022d72dc65a2e92",
       "version_major": 2,
       "version_minor": 0
      },
      "text/plain": [
       "HBox(children=(FloatProgress(value=0.0, max=198.0), HTML(value='')))"
      ]
     },
     "metadata": {},
     "output_type": "display_data"
    },
    {
     "name": "stderr",
     "output_type": "stream",
     "text": [
      "C:\\Users\\flori\\Anaconda3\\lib\\site-packages\\gensim\\topic_coherence\\direct_confirmation_measure.py:204: RuntimeWarning: divide by zero encountered in double_scalars\n",
      "  m_lr_i = np.log(numerator / denominator)\n",
      "C:\\Users\\flori\\Anaconda3\\lib\\site-packages\\gensim\\topic_coherence\\indirect_confirmation_measure.py:323: RuntimeWarning: invalid value encountered in double_scalars\n",
      "  return cv1.T.dot(cv2)[0, 0] / (_magnitude(cv1) * _magnitude(cv2))\n"
     ]
    },
    {
     "name": "stdout",
     "output_type": "stream",
     "text": [
      "\n"
     ]
    }
   ],
   "source": [
    "#generate different LDA-Models\n",
    "coherence_values = []\n",
    "ppl_values = []\n",
    "for k in tqdm(range(START, END, STEP)):\n",
    "    ppl, cv = LdaPipeline(data_train,  data_val,k)\n",
    "    coherence_values.append(cv)\n",
    "    ppl_values.append(ppl)"
   ]
  },
  {
   "cell_type": "code",
   "execution_count": 6,
   "metadata": {},
   "outputs": [
    {
     "data": {
      "image/png": "[encoded data removed]",
      "text/plain": [
       "<Figure size 432x288 with 2 Axes>"
      ]
     },
     "metadata": {
      "needs_background": "light"
     },
     "output_type": "display_data"
    }
   ],
   "source": [
    "# Show graph\n",
    "\n",
    "x = range(START, END, STEP)\n",
    "fig, ax1 = plt.subplots()\n",
    "#ppls = [math.exp(p) for p in ppl_values]\n",
    "\n",
    "color = 'tab:red'\n",
    "ax1.set_xlabel('Number of Topics (k)')\n",
    "ax1.set_ylabel('c_v coherence', color=color)\n",
    "ax1.plot(x, coherence_values, color=color)\n",
    "ax1.tick_params(axis='y', labelcolor=color)\n",
    "\n",
    "ax2 = ax1.twinx()  # instantiate a second axes that shares the same x-axis\n",
    "\n",
    "color = 'tab:blue'\n",
    "ax2.set_ylabel('Perplexity', color=color)  \n",
    "ax2.plot(x, ppl_values, color=color) #use ppls instead of ppl_values for true Perplexity instead of lower bound\n",
    "ax2.tick_params(axis='y', labelcolor=color)\n",
    "\n",
    "fig.tight_layout()  \n",
    "plt.show()"
   ]
  },
  {
   "cell_type": "code",
   "execution_count": null,
   "metadata": {},
   "outputs": [],
   "source": []
  },
  {
   "cell_type": "code",
   "execution_count": 7,
   "metadata": {},
   "outputs": [
    {
     "name": "stdout",
     "output_type": "stream",
     "text": [
      "Maximum Coherence_Value in the list is: 0.6675125302285766\n",
      "This value is achieved when using k = 3 topic-clusters\n"
     ]
    }
   ],
   "source": [
    "maxvalue = max(coherence_values)\n",
    "print(\"Maximum Coherence_Value in the list is:\", maxvalue)\n",
    "#Now we have find the position of Max Value\n",
    "maxpos = coherence_values.index(maxvalue)\n",
    "print(\"This value is achieved when using k = \"+str(2+maxpos)+\" topic-clusters\")"
   ]
  },
  {
   "cell_type": "code",
   "execution_count": 45,
   "metadata": {},
   "outputs": [
    {
     "name": "stdout",
     "output_type": "stream",
     "text": [
      "k = 100; Perplexity: 4325.8382828576505 and Coherence: 0.6321355696220464\n"
     ]
    }
   ],
   "source": [
    "# Evaluate Model with best hyperparameter for k\n",
    "#ppl0, cv0 = LdaPipeline(train_data,  data_test,2+maxpos)\n",
    "#print(\"Perplexity: \"+str(ppl0)+\" and Coherence: \"+str(cv0))    \n",
    "\n",
    "\n",
    "### for COMPARISON with other setups\n",
    "#ppl1, cv1 = LdaPipeline(train_data,  data_test,20)\n",
    "#print(\"k = 20; Perplexity: \"+str(ppl1)+\" and Coherence: \"+str(cv1)) \n",
    "\n",
    "#ppl2, cv2 = LdaPipeline(train_data,  data_test,50)\n",
    "#print(\"k= 50; Perplexity: \"+str(ppl2)+\" and Coherence: \"+str(cv2)) \n",
    "\n",
    "ppl3, cv3 = LdaPipeline(train_data,  data_test,100)\n",
    "print(\"k = 100; Perplexity: \"+str(ppl3)+\" and Coherence: \"+str(cv3)) \n",
    "\n",
    "#ppl4, cv4 = LdaPipeline(train_data,  data_test,200)\n",
    "#print(\"k = 200; Perplexity: \"+str(ppl4)+\" and Coherence: \"+str(cv4)) "
   ]
  },
  {
   "cell_type": "code",
   "execution_count": 60,
   "metadata": {},
   "outputs": [
    {
     "name": "stdout",
     "output_type": "stream",
     "text": [
      "k = 200; Perplexity: 23895.70260477548 and Coherence: nan\n"
     ]
    }
   ],
   "source": [
    "ppl4, cv4 = LdaPipeline(train_data,  data_test,200)\n",
    "print(\"k = 200; Perplexity: \"+str(ppl4)+\" and Coherence: \"+str(cv4)) "
   ]
  },
  {
   "cell_type": "code",
   "execution_count": null,
   "metadata": {},
   "outputs": [],
   "source": [
    "### visualize all results\n",
    "from astropy.table import QTable, Table, Column\n",
    "from astropy import units as u\n",
    "\n",
    "data_rows = [#(2+maxpos, ppl0, cv0),\n",
    "             (20, ppl1, cv1),\n",
    "             (50, ppl2, cv2),\n",
    "             (100, ppl3, cv3),\n",
    "             (200, ppl4, cv4)]\n",
    "t = Table(rows=data_rows, names=('k', 'Perplexity', 'Coherence c_v'))\n",
    "print(t)"
   ]
  },
  {
   "cell_type": "code",
   "execution_count": 10,
   "metadata": {},
   "outputs": [
    {
     "name": "stdout",
     "output_type": "stream",
     "text": [
      "The history saving thread hit an unexpected error (OperationalError('database is locked')).History will not be written to the database.\n"
     ]
    }
   ],
   "source": [
    "ppl_bound = np.log(ppl0)"
   ]
  },
  {
   "cell_type": "code",
   "execution_count": 11,
   "metadata": {},
   "outputs": [
    {
     "data": {
      "text/plain": [
       "5.301150550107789"
      ]
     },
     "execution_count": 11,
     "metadata": {},
     "output_type": "execute_result"
    }
   ],
   "source": [
    "ppl_bound"
   ]
  },
  {
   "cell_type": "code",
   "execution_count": 12,
   "metadata": {},
   "outputs": [
    {
     "data": {
      "text/plain": [
       "0.02536265258884713"
      ]
     },
     "execution_count": 12,
     "metadata": {},
     "output_type": "execute_result"
    }
   ],
   "source": [
    "2**(-ppl_bound)"
   ]
  },
  {
   "cell_type": "code",
   "execution_count": null,
   "metadata": {},
   "outputs": [],
   "source": []
  }
 ],
 "metadata": {
  "kernelspec": {
   "display_name": "Python 3",
   "language": "python",
   "name": "python3"
  },
  "language_info": {
   "codemirror_mode": {
    "name": "ipython",
    "version": 3
   },
   "file_extension": ".py",
   "mimetype": "text/x-python",
   "name": "python",
   "nbconvert_exporter": "python",
   "pygments_lexer": "ipython3",
   "version": "3.8.5"
  }
 },
 "nbformat": 4,
 "nbformat_minor": 4
}
