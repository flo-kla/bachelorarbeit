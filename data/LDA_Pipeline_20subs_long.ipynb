{
 "cells": [
  {
   "cell_type": "code",
   "execution_count": null,
   "metadata": {},
   "outputs": [],
   "source": []
  },
  {
   "cell_type": "code",
   "execution_count": 7,
   "metadata": {},
   "outputs": [],
   "source": [
    "import re\n",
    "import numpy as np\n",
    "import pandas as pd\n",
    "import csv\n",
    "from pprint import pprint\n",
    "import math\n",
    "\n",
    "# Gensim\n",
    "import gensim\n",
    "import gensim.corpora as corpora\n",
    "from gensim.models import CoherenceModel\n",
    "from gensim.corpora.dictionary import Dictionary\n",
    "from nltk.tokenize import word_tokenize\n",
    "\n",
    "\n",
    "\n",
    "# Plotting tools\n",
    "from tqdm.notebook import tqdm\n",
    "import matplotlib.pyplot as plt\n",
    "%matplotlib inline\n",
    "\n",
    "import warnings\n",
    "warnings.filterwarnings(\"ignore\",category=DeprecationWarning)"
   ]
  },
  {
   "cell_type": "code",
   "execution_count": 8,
   "metadata": {},
   "outputs": [],
   "source": [
    "#load training Data\n",
    "with open('/home/flokla/Dropbox/Desktop/bachelorarbeit/realshit/Datasets/20subs_long/idocnade/training.csv', newline='') as csvfile1:\n",
    "    data_train = pd.read_csv(csvfile1,  names=[\"Label\", \"Text\"])\n",
    "    data_train = data_train.dropna(subset=['Text'])   \n",
    "\n",
    "#load validation Data\n",
    "with open('/home/flokla/Dropbox/Desktop/bachelorarbeit/realshit/Datasets/20subs_long/idocnade/validation.csv', newline='') as csvfile2:\n",
    "    data_val = pd.read_csv(csvfile2,  names=[\"Label\", \"Text\"])\n",
    "    data_val = data_val.dropna(subset=['Text'])     \n",
    "    \n",
    "frames = [data_train,data_val]\n",
    "train_data = pd.concat(frames)\n",
    "\n",
    "#load testing Data\n",
    "with open('/home/flokla/Dropbox/Desktop/bachelorarbeit/realshit/Datasets/20subs_long/idocnade/test.csv', newline='') as csvfile3:\n",
    "    data_test = pd.read_csv(csvfile3,  names=[\"Label\", \"Text\"])  \n",
    "    data_test = data_test.dropna(subset=['Text'])  "
   ]
  },
  {
   "cell_type": "code",
   "execution_count": 9,
   "metadata": {},
   "outputs": [],
   "source": [
    "def LdaPipeline(train_fold, val_fold, k):\n",
    "\n",
    "    dictionary = gensim.corpora.Dictionary(train_fold[\"Text\"].str.split())\n",
    "    corpus_train = [dictionary.doc2bow(text.split()) for index,text in train_fold[\"Text\"].iteritems()]\n",
    "    corpus_val = [dictionary.doc2bow(text.split()) for index,text in val_fold[\"Text\"].iteritems()]\n",
    "    # LDA\n",
    "    lda_model = gensim.models.LdaMulticore(corpus=corpus_train, id2word = dictionary, num_topics = k, alpha=0.1,workers=15)\n",
    "    \n",
    "    # Perplexity\n",
    "    perplexity = lda_model.log_perplexity(corpus_val)\n",
    "   \n",
    "    # Coherence\n",
    "    texts = [[dictionary[word_id] for word_id, freq in doc] for doc in corpus_val]\n",
    "    coherence_model = gensim.models.coherencemodel.CoherenceModel(model=lda_model, corpus=corpus_train, texts = texts,coherence='c_v')\n",
    "    coherence = coherence_model.get_coherence()\n",
    "    return [2**(-perplexity), coherence]\n",
    "\n"
   ]
  },
  {
   "cell_type": "code",
   "execution_count": 10,
   "metadata": {},
   "outputs": [],
   "source": [
    "START = 2\n",
    "STEP = 1\n",
    "END = 200\n"
   ]
  },
  {
   "cell_type": "code",
   "execution_count": 11,
   "metadata": {},
   "outputs": [
    {
     "data": {
      "application/vnd.jupyter.widget-view+json": {
       "model_id": "40b7e48ab1d04f32bfb612c47929b5e7",
       "version_major": 2,
       "version_minor": 0
      },
      "text/plain": [
       "HBox(children=(HTML(value=''), FloatProgress(value=0.0, max=198.0), HTML(value='')))"
      ]
     },
     "metadata": {},
     "output_type": "display_data"
    },
    {
     "name": "stderr",
     "output_type": "stream",
     "text": [
      "/home/flokla/anaconda3/lib/python3.8/site-packages/gensim/topic_coherence/direct_confirmation_measure.py:204: RuntimeWarning: divide by zero encountered in double_scalars\n",
      "  m_lr_i = np.log(numerator / denominator)\n",
      "/home/flokla/anaconda3/lib/python3.8/site-packages/gensim/topic_coherence/indirect_confirmation_measure.py:323: RuntimeWarning: invalid value encountered in double_scalars\n",
      "  return cv1.T.dot(cv2)[0, 0] / (_magnitude(cv1) * _magnitude(cv2))\n"
     ]
    },
    {
     "name": "stdout",
     "output_type": "stream",
     "text": [
      "\n"
     ]
    }
   ],
   "source": [
    "#generate different LDA-Models\n",
    "coherence_values = []\n",
    "ppl_values = []\n",
    "for k in tqdm(range(START, END, STEP)):\n",
    "    ppl, cv = LdaPipeline(data_train,  data_val,k)\n",
    "    coherence_values.append(cv)\n",
    "    ppl_values.append(ppl)"
   ]
  },
  {
   "cell_type": "code",
   "execution_count": 12,
   "metadata": {},
   "outputs": [
    {
     "data": {
      "image/png": "[encoded data removed]",
      "text/plain": [
       "<Figure size 432x288 with 2 Axes>"
      ]
     },
     "metadata": {
      "needs_background": "light"
     },
     "output_type": "display_data"
    }
   ],
   "source": [
    "# Show graph\n",
    "\n",
    "x = range(START, END, STEP)\n",
    "fig, ax1 = plt.subplots()\n",
    "#ppls = [math.exp(p) for p in ppl_values]\n",
    "\n",
    "color = 'tab:red'\n",
    "ax1.set_xlabel('Number of Topics (k)')\n",
    "ax1.set_ylabel('c_v coherence', color=color)\n",
    "ax1.plot(x, coherence_values, color=color)\n",
    "ax1.tick_params(axis='y', labelcolor=color)\n",
    "\n",
    "ax2 = ax1.twinx()  # instantiate a second axes that shares the same x-axis\n",
    "\n",
    "color = 'tab:blue'\n",
    "ax2.set_ylabel('Perplexity', color=color)  \n",
    "ax2.plot(x, ppl_values, color=color) #use ppls instead of ppl_values for true Perplexity instead of lower bound\n",
    "ax2.tick_params(axis='y', labelcolor=color)\n",
    "\n",
    "fig.tight_layout()  \n",
    "plt.show()"
   ]
  },
  {
   "cell_type": "code",
   "execution_count": null,
   "metadata": {},
   "outputs": [],
   "source": []
  },
  {
   "cell_type": "code",
   "execution_count": 13,
   "metadata": {},
   "outputs": [
    {
     "name": "stdout",
     "output_type": "stream",
     "text": [
      "Maximum Coherence_Value in the list is: 0.6571986776097919\n",
      "This value is achieved when using k = 4 topic-clusters\n"
     ]
    }
   ],
   "source": [
    "maxvalue = max(coherence_values)\n",
    "print(\"Maximum Coherence_Value in the list is:\", maxvalue)\n",
    "#Now we have find the position of Max Value\n",
    "maxpos = coherence_values.index(maxvalue)\n",
    "print(\"This value is achieved when using k = \"+str(2+maxpos)+\" topic-clusters\")"
   ]
  },
  {
   "cell_type": "code",
   "execution_count": 14,
   "metadata": {},
   "outputs": [
    {
     "name": "stdout",
     "output_type": "stream",
     "text": [
      "Perplexity: 323.83201555731324 and Coherence: 0.6588833955823282\n",
      "k = 20; Perplexity: 809.4188581114546 and Coherence: 0.6773131935029697\n",
      "k= 50; Perplexity: 2634.8552064762744 and Coherence: 0.6834352306299901\n",
      "k = 100; Perplexity: 9443.809539977206 and Coherence: nan\n",
      "k = 200; Perplexity: 64912.95900393741 and Coherence: nan\n"
     ]
    }
   ],
   "source": [
    "# Evaluate Model with best hyperparameter for k\n",
    "ppl0, cv0 = LdaPipeline(train_data,  data_test,2+maxpos)\n",
    "print(\"Perplexity: \"+str(ppl0)+\" and Coherence: \"+str(cv0))    \n",
    "\n",
    "\n",
    "### for COMPARISON with other setups\n",
    "ppl1, cv1 = LdaPipeline(train_data,  data_test,20)\n",
    "print(\"k = 20; Perplexity: \"+str(ppl1)+\" and Coherence: \"+str(cv1)) \n",
    "\n",
    "ppl2, cv2 = LdaPipeline(train_data,  data_test,50)\n",
    "print(\"k= 50; Perplexity: \"+str(ppl2)+\" and Coherence: \"+str(cv2)) \n",
    "\n",
    "ppl3, cv3 = LdaPipeline(train_data,  data_test,100)\n",
    "print(\"k = 100; Perplexity: \"+str(ppl3)+\" and Coherence: \"+str(cv3)) \n",
    "\n",
    "ppl4, cv4 = LdaPipeline(train_data,  data_test,200)\n",
    "print(\"k = 200; Perplexity: \"+str(ppl4)+\" and Coherence: \"+str(cv4)) "
   ]
  },
  {
   "cell_type": "code",
   "execution_count": 60,
   "metadata": {},
   "outputs": [
    {
     "name": "stdout",
     "output_type": "stream",
     "text": [
      "k = 200; Perplexity: 23895.70260477548 and Coherence: nan\n"
     ]
    }
   ],
   "source": [
    "ppl4, cv4 = LdaPipeline(train_data,  data_test,200)\n",
    "print(\"k = 200; Perplexity: \"+str(ppl4)+\" and Coherence: \"+str(cv4)) "
   ]
  },
  {
   "cell_type": "code",
   "execution_count": 15,
   "metadata": {},
   "outputs": [
    {
     "name": "stdout",
     "output_type": "stream",
     "text": [
      " k      Perplexity       Coherence c_v   \n",
      "--- ------------------ ------------------\n",
      "  4 323.83201555731324 0.6588833955823282\n",
      " 20  809.4188581114546 0.6773131935029697\n",
      " 50 2634.8552064762744 0.6834352306299901\n",
      "100  9443.809539977206                nan\n",
      "200  64912.95900393741                nan\n"
     ]
    }
   ],
   "source": [
    "### visualize all results\n",
    "from astropy.table import QTable, Table, Column\n",
    "from astropy import units as u\n",
    "\n",
    "data_rows = [(2+maxpos, ppl0, cv0),\n",
    "             (20, ppl1, cv1),\n",
    "             (50, ppl2, cv2),\n",
    "             (100, ppl3, cv3),\n",
    "             (200, ppl4, cv4)]\n",
    "t = Table(rows=data_rows, names=('k', 'Perplexity', 'Coherence c_v'))\n",
    "print(t)"
   ]
  },
  {
   "cell_type": "code",
   "execution_count": 10,
   "metadata": {},
   "outputs": [
    {
     "name": "stdout",
     "output_type": "stream",
     "text": [
      "The history saving thread hit an unexpected error (OperationalError('database is locked')).History will not be written to the database.\n"
     ]
    }
   ],
   "source": [
    "ppl_bound = np.log(ppl0)"
   ]
  },
  {
   "cell_type": "code",
   "execution_count": 11,
   "metadata": {},
   "outputs": [
    {
     "data": {
      "text/plain": [
       "5.301150550107789"
      ]
     },
     "execution_count": 11,
     "metadata": {},
     "output_type": "execute_result"
    }
   ],
   "source": [
    "ppl_bound"
   ]
  },
  {
   "cell_type": "code",
   "execution_count": 12,
   "metadata": {},
   "outputs": [
    {
     "data": {
      "text/plain": [
       "0.02536265258884713"
      ]
     },
     "execution_count": 12,
     "metadata": {},
     "output_type": "execute_result"
    }
   ],
   "source": [
    "2**(-ppl_bound)"
   ]
  },
  {
   "cell_type": "code",
   "execution_count": 16,
   "metadata": {},
   "outputs": [
    {
     "name": "stdout",
     "output_type": "stream",
     "text": [
      "2: 0.650503247328393\n",
      "3: 0.6429269695485741\n",
      "4: 0.6571986776097919\n",
      "5: 0.6291078613173459\n",
      "6: 0.6310071138881725\n",
      "7: 0.6336931713826954\n",
      "8: 0.6118001712960278\n",
      "9: 0.5994881498119353\n",
      "10: 0.626766619630916\n",
      "11: 0.6085284638090106\n",
      "12: 0.6256610603454403\n",
      "13: 0.6376081058624545\n",
      "14: 0.635431508369288\n",
      "15: 0.6335490453094736\n",
      "16: 0.6253800409606731\n",
      "17: 0.6395324866922844\n",
      "18: 0.6409736355714277\n",
      "19: 0.6262623151478979\n",
      "20: 0.6239830957634529\n",
      "21: 0.6437160982755663\n",
      "22: 0.6245403564684033\n",
      "23: 0.6442950107311533\n",
      "24: 0.6244150441031864\n",
      "25: 0.6400147939299263\n",
      "26: 0.6291127018491343\n",
      "27: 0.6028931708544134\n",
      "28: 0.6159392258819892\n",
      "29: 0.6232486885737989\n",
      "30: 0.6032406468161279\n",
      "31: 0.598966950177764\n",
      "32: 0.6111080033018352\n",
      "33: 0.6308495382170597\n",
      "34: 0.6108269292782222\n",
      "35: 0.6125855403164371\n",
      "36: 0.6116337333219188\n",
      "37: nan\n",
      "38: 0.6031735988372349\n",
      "39: 0.6152391548298376\n",
      "40: nan\n",
      "41: 0.6102420021721908\n",
      "42: 0.6012824256828422\n",
      "43: nan\n",
      "44: nan\n",
      "45: nan\n",
      "46: nan\n",
      "47: nan\n",
      "48: nan\n",
      "49: nan\n",
      "50: nan\n",
      "51: nan\n",
      "52: nan\n",
      "53: 0.5674400043416042\n",
      "54: nan\n",
      "55: nan\n",
      "56: nan\n",
      "57: nan\n",
      "58: nan\n",
      "59: nan\n",
      "60: nan\n",
      "61: nan\n",
      "62: nan\n",
      "63: nan\n",
      "64: nan\n",
      "65: nan\n",
      "66: nan\n",
      "67: nan\n",
      "68: nan\n",
      "69: nan\n",
      "70: nan\n",
      "71: nan\n",
      "72: nan\n",
      "73: nan\n",
      "74: nan\n",
      "75: nan\n",
      "76: nan\n",
      "77: nan\n",
      "78: nan\n",
      "79: nan\n",
      "80: nan\n",
      "81: nan\n",
      "82: nan\n",
      "83: nan\n",
      "84: nan\n",
      "85: nan\n",
      "86: nan\n",
      "87: nan\n",
      "88: nan\n",
      "89: nan\n",
      "90: nan\n",
      "91: nan\n",
      "92: nan\n",
      "93: nan\n",
      "94: nan\n",
      "95: nan\n",
      "96: nan\n",
      "97: nan\n",
      "98: nan\n",
      "99: nan\n",
      "100: nan\n",
      "101: nan\n",
      "102: nan\n",
      "103: nan\n",
      "104: nan\n",
      "105: nan\n",
      "106: nan\n",
      "107: nan\n",
      "108: nan\n",
      "109: nan\n",
      "110: nan\n",
      "111: nan\n",
      "112: nan\n",
      "113: nan\n",
      "114: nan\n",
      "115: nan\n",
      "116: nan\n",
      "117: nan\n",
      "118: nan\n",
      "119: nan\n",
      "120: nan\n",
      "121: nan\n",
      "122: nan\n",
      "123: nan\n",
      "124: nan\n",
      "125: nan\n",
      "126: nan\n",
      "127: nan\n",
      "128: nan\n",
      "129: nan\n",
      "130: nan\n",
      "131: nan\n",
      "132: nan\n",
      "133: nan\n",
      "134: nan\n",
      "135: nan\n",
      "136: nan\n",
      "137: nan\n",
      "138: nan\n",
      "139: nan\n",
      "140: nan\n",
      "141: nan\n",
      "142: nan\n",
      "143: nan\n",
      "144: nan\n",
      "145: nan\n",
      "146: nan\n",
      "147: nan\n",
      "148: nan\n",
      "149: nan\n",
      "150: nan\n",
      "151: nan\n",
      "152: nan\n",
      "153: nan\n",
      "154: nan\n",
      "155: nan\n",
      "156: nan\n",
      "157: nan\n",
      "158: nan\n",
      "159: nan\n",
      "160: nan\n",
      "161: nan\n",
      "162: nan\n",
      "163: nan\n",
      "164: nan\n",
      "165: nan\n",
      "166: nan\n",
      "167: nan\n",
      "168: nan\n",
      "169: nan\n",
      "170: nan\n",
      "171: nan\n",
      "172: nan\n",
      "173: nan\n",
      "174: nan\n",
      "175: nan\n",
      "176: nan\n",
      "177: nan\n",
      "178: nan\n",
      "179: nan\n",
      "180: nan\n",
      "181: nan\n",
      "182: nan\n",
      "183: nan\n",
      "184: nan\n",
      "185: nan\n",
      "186: nan\n",
      "187: nan\n",
      "188: nan\n",
      "189: nan\n",
      "190: nan\n",
      "191: nan\n",
      "192: nan\n",
      "193: nan\n",
      "194: nan\n",
      "195: nan\n",
      "196: nan\n",
      "197: nan\n",
      "198: nan\n",
      "199: nan\n"
     ]
    }
   ],
   "source": [
    "i=2\n",
    "for val in coherence_values:\n",
    "    print(str(i)+\": \"+str(val))\n",
    "    i+=1"
   ]
  },
  {
   "cell_type": "code",
   "execution_count": null,
   "metadata": {},
   "outputs": [],
   "source": []
  }
 ],
 "metadata": {
  "kernelspec": {
   "display_name": "Python 3",
   "language": "python",
   "name": "python3"
  },
  "language_info": {
   "codemirror_mode": {
    "name": "ipython",
    "version": 3
   },
   "file_extension": ".py",
   "mimetype": "text/x-python",
   "name": "python",
   "nbconvert_exporter": "python",
   "pygments_lexer": "ipython3",
   "version": "3.8.5"
  }
 },
 "nbformat": 4,
 "nbformat_minor": 4
}
