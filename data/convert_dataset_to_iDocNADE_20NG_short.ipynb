{
 "cells": [
  {
   "cell_type": "code",
   "execution_count": 2,
   "metadata": {},
   "outputs": [],
   "source": [
    "import pandas as pd\n",
    "test = pd.read_csv(\"/home/flokla/Dropbox/Desktop/bachelorarbeit/realshit/Datasets/20NG_short/processed/test.csv\")\n",
    "train = pd.read_csv(\"/home/flokla/Dropbox/Desktop/bachelorarbeit/realshit/Datasets/20NG_short/processed/training.csv\")\n",
    "frames=[test,train]\n",
    "data = pd.concat(frames)"
   ]
  },
  {
   "cell_type": "code",
   "execution_count": 3,
   "metadata": {},
   "outputs": [],
   "source": [
    "f = open(\"/home/flokla/Dropbox/Desktop/bachelorarbeit/realshit/Datasets/20NG_short/idocnade/vocabbuilder.txt\",\"w\",encoding='utf-8')\n",
    "for index,row in data.iterrows():\n",
    "    #print(row[\"text\"])\n",
    "    if row[\"text\"] == \"\":\n",
    "        continue\n",
    "    #text = \" \".join(str(row[\"text\"]))\n",
    "    f.write(str(row[\"text\"])+\"\\n\")\n",
    "f.close()"
   ]
  },
  {
   "cell_type": "markdown",
   "metadata": {},
   "source": [
    "### build vocab file and calculate appearence-fraction of words"
   ]
  },
  {
   "cell_type": "code",
   "execution_count": 4,
   "metadata": {},
   "outputs": [],
   "source": [
    "import nltk\n",
    "\n",
    "def get_frac_dist(token_list):\n",
    "    '''\n",
    "    Computes frequency count and fraction of individual words in a list.\n",
    "\n",
    "    Parameters\n",
    "    ----------\n",
    "    token_list : list\n",
    "        List of all (non-unique) tokens from some corpus\n",
    "\n",
    "    Returns\n",
    "    -------\n",
    "    dict\n",
    "        Dictionary of { token, (count, fraction) } pairs.\n",
    "    '''\n",
    "\n",
    "    token_list = nltk.word_tokenize(content)\n",
    "    total_token_count = len(token_list)\n",
    "\n",
    "    freq_dict = nltk.FreqDist(token_list)\n",
    "\n",
    "    frac_dict = {}\n",
    "    for token, count in freq_dict.items():\n",
    "        frac_dict[token] = (count, count / total_token_count)\n",
    "\n",
    "    return frac_dict"
   ]
  },
  {
   "cell_type": "code",
   "execution_count": 5,
   "metadata": {},
   "outputs": [],
   "source": [
    "with open(\"/home/flokla/Dropbox/Desktop/bachelorarbeit/realshit/Datasets/20NG_short/idocnade/vocabbuilder.txt\") as f:\n",
    "    content = f.read().lower()\n",
    "\n",
    "token_list = nltk.word_tokenize(content.lower())\n",
    "frac_dist = get_frac_dist(token_list)"
   ]
  },
  {
   "cell_type": "code",
   "execution_count": 6,
   "metadata": {},
   "outputs": [
    {
     "name": "stdout",
     "output_type": "stream",
     "text": [
      "need                :  5500, 0.00217\n",
      "info                :  1410, 0.00056\n",
      "bonneville          :    10, 0.00000\n",
      "organization        : 18860, 0.00745\n",
      "university          :  9410, 0.00372\n",
      "buffalo             :   262, 0.00010\n",
      "lines               : 15278, 0.00604\n",
      "newssoftware        :   308, 0.00012\n",
      "vaxvms              :   310, 0.00012\n",
      "vnews               :   275, 0.00011\n"
     ]
    }
   ],
   "source": [
    "i = 0\n",
    "for k, v in frac_dist.items():\n",
    "\n",
    "    i += 1\n",
    "    if i > 10:\n",
    "        break\n",
    "\n",
    "    token = k.lower()\n",
    "    count = v[0]\n",
    "    frac = v[1]\n",
    "    print('%-20s: %5d, %0.5f' % (token, count, frac))"
   ]
  },
  {
   "cell_type": "code",
   "execution_count": 7,
   "metadata": {},
   "outputs": [
    {
     "name": "stdout",
     "output_type": "stream",
     "text": [
      "1469\n"
     ]
    }
   ],
   "source": [
    "l = [ (k, v[0], v[1]) for k, v in frac_dist.items() if v[0] > 300]\n",
    "print(len(l))"
   ]
  },
  {
   "cell_type": "code",
   "execution_count": 8,
   "metadata": {},
   "outputs": [
    {
     "data": {
      "text/plain": [
       "144591"
      ]
     },
     "execution_count": 8,
     "metadata": {},
     "output_type": "execute_result"
    }
   ],
   "source": [
    "len(frac_dist)"
   ]
  },
  {
   "cell_type": "code",
   "execution_count": 9,
   "metadata": {},
   "outputs": [
    {
     "name": "stdout",
     "output_type": "stream",
     "text": [
      "need\n"
     ]
    }
   ],
   "source": [
    "print(l[0][0])"
   ]
  },
  {
   "cell_type": "code",
   "execution_count": 10,
   "metadata": {},
   "outputs": [
    {
     "name": "stdout",
     "output_type": "stream",
     "text": [
      "1469\n"
     ]
    }
   ],
   "source": [
    "vocab = set()\n",
    "i = 0\n",
    "for i in range(len(l)):\n",
    "    #print(word)\n",
    "    vocab.add(l[i][0])\n",
    "vocab = sorted(vocab)\n",
    "print(len(vocab))"
   ]
  },
  {
   "cell_type": "code",
   "execution_count": 11,
   "metadata": {},
   "outputs": [
    {
     "data": {
      "text/plain": [
       "'able'"
      ]
     },
     "execution_count": 11,
     "metadata": {},
     "output_type": "execute_result"
    }
   ],
   "source": [
    "vocab[1]"
   ]
  },
  {
   "cell_type": "code",
   "execution_count": 12,
   "metadata": {},
   "outputs": [],
   "source": [
    "with open(\"/home/flokla/Dropbox/Desktop/bachelorarbeit/realshit/Datasets/20NG_short/idocnade/vocab_docnade.vocab\", \"w\") as f:\n",
    "    for item in vocab:\n",
    "        f.write(item + \"\\n\")\n",
    "f.close()  "
   ]
  },
  {
   "cell_type": "code",
   "execution_count": 16,
   "metadata": {},
   "outputs": [],
   "source": [
    "import pandas as pd\n",
    "\n",
    "datatrain = pd.read_csv('/home/flokla/Dropbox/Desktop/bachelorarbeit/realshit/Datasets/20NG_short/processed/training.csv') \n",
    "datatest = pd.read_csv('/home/flokla/Dropbox/Desktop/bachelorarbeit/realshit/Datasets/20NG_short/processed/test.csv') "
   ]
  },
  {
   "cell_type": "code",
   "execution_count": 17,
   "metadata": {},
   "outputs": [],
   "source": [
    "import spacy\n",
    "import nltk\n",
    "from nltk.tokenize import word_tokenize"
   ]
  },
  {
   "cell_type": "code",
   "execution_count": 18,
   "metadata": {},
   "outputs": [],
   "source": [
    "# remove stopwords and only keep words that are in vocab\n",
    "\n",
    "def remove_stopwords(text):\n",
    "    text_tokens = word_tokenize(text)\n",
    "    tokens_without_sw= [word for word in text_tokens if not word in all_stopwords and word in vocab]\n",
    "    return tokens_without_sw\n",
    "\n",
    "sp = spacy.load('en_core_web_lg')\n",
    "all_stopwords = sp.Defaults.stop_words\n",
    "\n",
    "\n",
    "datatrain[\"text\"] = datatrain['text'].apply(remove_stopwords)\n",
    "datatest[\"text\"] = datatest['text'].apply(remove_stopwords)\n",
    "datatrain['length']=datatrain['text'].apply(len)\n",
    "datatest['length']=datatest['text'].apply(len)\n"
   ]
  },
  {
   "cell_type": "code",
   "execution_count": 19,
   "metadata": {},
   "outputs": [],
   "source": [
    "label_dict = {\n",
    "    \"0\": 'alt.atheism',\n",
    "     \"1\":'comp.graphics',\n",
    "     \"2\":'comp.os.ms-windows.misc',\n",
    "     \"3\":'comp.sys.ibm.pc.hardware',\n",
    "     \"4\":'comp.sys.mac.hardware',\n",
    "     \"5\":'comp.windows.x',\n",
    "     \"6\":'misc.forsale',\n",
    "     \"7\":'rec.autos',\n",
    "     \"8\":'rec.motorcycles',\n",
    "     \"9\":'rec.sport.baseball',\n",
    "     \"10\":'rec.sport.hockey',\n",
    "     \"11\":'sci.crypt',\n",
    "     \"12\":'sci.electronics',\n",
    "     \"13\":'sci.med',\n",
    "     \"14\":'sci.space',\n",
    "     \"15\":'soc.religion.christian',\n",
    "     \"16\":'talk.politics.guns',\n",
    "     \"17\":'talk.politics.mideast',\n",
    "     \"18\":'talk.politics.misc',\n",
    "     \"19\":'talk.religion.misc'\n",
    "}"
   ]
  },
  {
   "cell_type": "code",
   "execution_count": 20,
   "metadata": {},
   "outputs": [
    {
     "name": "stderr",
     "output_type": "stream",
     "text": [
      "<ipython-input-20-3591ac13fd2c>:3: SettingWithCopyWarning: \n",
      "A value is trying to be set on a copy of a slice from a DataFrame\n",
      "\n",
      "See the caveats in the documentation: https://pandas.pydata.org/pandas-docs/stable/user_guide/indexing.html#returning-a-view-versus-a-copy\n",
      "  datatrain[\"label\"][index] = label_dict[str(row[\"target\"])]\n",
      "<ipython-input-20-3591ac13fd2c>:6: SettingWithCopyWarning: \n",
      "A value is trying to be set on a copy of a slice from a DataFrame\n",
      "\n",
      "See the caveats in the documentation: https://pandas.pydata.org/pandas-docs/stable/user_guide/indexing.html#returning-a-view-versus-a-copy\n",
      "  datatest[\"label\"][index] = label_dict[str(row[\"target\"])]\n"
     ]
    },
    {
     "data": {
      "text/html": [
       "<div>\n",
       "<style scoped>\n",
       "    .dataframe tbody tr th:only-of-type {\n",
       "        vertical-align: middle;\n",
       "    }\n",
       "\n",
       "    .dataframe tbody tr th {\n",
       "        vertical-align: top;\n",
       "    }\n",
       "\n",
       "    .dataframe thead th {\n",
       "        text-align: right;\n",
       "    }\n",
       "</style>\n",
       "<table border=\"1\" class=\"dataframe\">\n",
       "  <thead>\n",
       "    <tr style=\"text-align: right;\">\n",
       "      <th></th>\n",
       "      <th>text</th>\n",
       "      <th>target</th>\n",
       "      <th>length</th>\n",
       "      <th>label</th>\n",
       "    </tr>\n",
       "  </thead>\n",
       "  <tbody>\n",
       "    <tr>\n",
       "      <th>0</th>\n",
       "      <td>[car, wonder, car, day, door, sport, car, look...</td>\n",
       "      <td>7</td>\n",
       "      <td>30</td>\n",
       "      <td>rec.autos</td>\n",
       "    </tr>\n",
       "    <tr>\n",
       "      <th>1</th>\n",
       "      <td>[final, clock, report, fair, number, soul, upg...</td>\n",
       "      <td>4</td>\n",
       "      <td>37</td>\n",
       "      <td>comp.sys.mac.hardware</td>\n",
       "    </tr>\n",
       "    <tr>\n",
       "      <th>2</th>\n",
       "      <td>[question, usa, folk, mac, plus, finally, star...</td>\n",
       "      <td>4</td>\n",
       "      <td>92</td>\n",
       "      <td>comp.sys.mac.hardware</td>\n",
       "    </tr>\n",
       "    <tr>\n",
       "      <th>3</th>\n",
       "      <td>[world, version, write, write, article, know, ...</td>\n",
       "      <td>1</td>\n",
       "      <td>25</td>\n",
       "      <td>comp.graphics</td>\n",
       "    </tr>\n",
       "    <tr>\n",
       "      <th>4</th>\n",
       "      <td>[article, article, write, clear, memory, error...</td>\n",
       "      <td>14</td>\n",
       "      <td>44</td>\n",
       "      <td>sci.space</td>\n",
       "    </tr>\n",
       "  </tbody>\n",
       "</table>\n",
       "</div>"
      ],
      "text/plain": [
       "                                                text  target  length  \\\n",
       "0  [car, wonder, car, day, door, sport, car, look...       7      30   \n",
       "1  [final, clock, report, fair, number, soul, upg...       4      37   \n",
       "2  [question, usa, folk, mac, plus, finally, star...       4      92   \n",
       "3  [world, version, write, write, article, know, ...       1      25   \n",
       "4  [article, article, write, clear, memory, error...      14      44   \n",
       "\n",
       "                   label  \n",
       "0              rec.autos  \n",
       "1  comp.sys.mac.hardware  \n",
       "2  comp.sys.mac.hardware  \n",
       "3          comp.graphics  \n",
       "4              sci.space  "
      ]
     },
     "execution_count": 20,
     "metadata": {},
     "output_type": "execute_result"
    }
   ],
   "source": [
    "datatrain[\"label\"]=\"\"\n",
    "for index, row in datatrain.iterrows():\n",
    "    datatrain[\"label\"][index] = label_dict[str(row[\"target\"])]\n",
    "datatest[\"label\"]=\"\"\n",
    "for index, row in datatest.iterrows():\n",
    "    datatest[\"label\"][index] = label_dict[str(row[\"target\"])]    \n",
    "    \n",
    "\n",
    "datatrain.head()"
   ]
  },
  {
   "cell_type": "code",
   "execution_count": 21,
   "metadata": {},
   "outputs": [
    {
     "data": {
      "text/html": [
       "<div>\n",
       "<style scoped>\n",
       "    .dataframe tbody tr th:only-of-type {\n",
       "        vertical-align: middle;\n",
       "    }\n",
       "\n",
       "    .dataframe tbody tr th {\n",
       "        vertical-align: top;\n",
       "    }\n",
       "\n",
       "    .dataframe thead th {\n",
       "        text-align: right;\n",
       "    }\n",
       "</style>\n",
       "<table border=\"1\" class=\"dataframe\">\n",
       "  <thead>\n",
       "    <tr style=\"text-align: right;\">\n",
       "      <th></th>\n",
       "      <th>text</th>\n",
       "      <th>target</th>\n",
       "      <th>length</th>\n",
       "      <th>label</th>\n",
       "    </tr>\n",
       "  </thead>\n",
       "  <tbody>\n",
       "    <tr>\n",
       "      <th>0</th>\n",
       "      <td>[car, wonder, car, day, door, sport, car, look...</td>\n",
       "      <td>7</td>\n",
       "      <td>30</td>\n",
       "      <td>rec.autos</td>\n",
       "    </tr>\n",
       "    <tr>\n",
       "      <th>1</th>\n",
       "      <td>[final, clock, report, fair, number, soul, upg...</td>\n",
       "      <td>4</td>\n",
       "      <td>37</td>\n",
       "      <td>comp.sys.mac.hardware</td>\n",
       "    </tr>\n",
       "    <tr>\n",
       "      <th>2</th>\n",
       "      <td>[question, usa, folk, mac, plus, finally, star...</td>\n",
       "      <td>4</td>\n",
       "      <td>92</td>\n",
       "      <td>comp.sys.mac.hardware</td>\n",
       "    </tr>\n",
       "    <tr>\n",
       "      <th>3</th>\n",
       "      <td>[world, version, write, write, article, know, ...</td>\n",
       "      <td>1</td>\n",
       "      <td>25</td>\n",
       "      <td>comp.graphics</td>\n",
       "    </tr>\n",
       "    <tr>\n",
       "      <th>4</th>\n",
       "      <td>[article, article, write, clear, memory, error...</td>\n",
       "      <td>14</td>\n",
       "      <td>44</td>\n",
       "      <td>sci.space</td>\n",
       "    </tr>\n",
       "  </tbody>\n",
       "</table>\n",
       "</div>"
      ],
      "text/plain": [
       "                                                text  target  length  \\\n",
       "0  [car, wonder, car, day, door, sport, car, look...       7      30   \n",
       "1  [final, clock, report, fair, number, soul, upg...       4      37   \n",
       "2  [question, usa, folk, mac, plus, finally, star...       4      92   \n",
       "3  [world, version, write, write, article, know, ...       1      25   \n",
       "4  [article, article, write, clear, memory, error...      14      44   \n",
       "\n",
       "                   label  \n",
       "0              rec.autos  \n",
       "1  comp.sys.mac.hardware  \n",
       "2  comp.sys.mac.hardware  \n",
       "3          comp.graphics  \n",
       "4              sci.space  "
      ]
     },
     "execution_count": 21,
     "metadata": {},
     "output_type": "execute_result"
    }
   ],
   "source": [
    "frames = [datatrain,datatest]\n",
    "data = pd.concat(frames)\n",
    "data.head()"
   ]
  },
  {
   "cell_type": "code",
   "execution_count": 24,
   "metadata": {},
   "outputs": [],
   "source": [
    "# split for evaluation set\n",
    "from sklearn.model_selection import train_test_split\n",
    "train_data, val_data = train_test_split(datatrain, test_size=0.2, random_state=42)"
   ]
  },
  {
   "cell_type": "code",
   "execution_count": 25,
   "metadata": {},
   "outputs": [
    {
     "name": "stdout",
     "output_type": "stream",
     "text": [
      "7532 18846 9051 2263\n"
     ]
    }
   ],
   "source": [
    "print(len(datatest),len(data),len(train_data),len(val_data))"
   ]
  },
  {
   "cell_type": "code",
   "execution_count": 26,
   "metadata": {},
   "outputs": [
    {
     "data": {
      "text/plain": [
       "target     9.293166\n",
       "length    61.153720\n",
       "dtype: float64"
      ]
     },
     "execution_count": 26,
     "metadata": {},
     "output_type": "execute_result"
    }
   ],
   "source": [
    "data.mean(axis = 0, skipna = True) "
   ]
  },
  {
   "cell_type": "code",
   "execution_count": 27,
   "metadata": {},
   "outputs": [
    {
     "data": {
      "text/plain": [
       "target      5.562798\n",
       "length    131.508880\n",
       "dtype: float64"
      ]
     },
     "execution_count": 27,
     "metadata": {},
     "output_type": "execute_result"
    }
   ],
   "source": [
    "data.std(axis = 0, skipna = True) "
   ]
  },
  {
   "cell_type": "code",
   "execution_count": 28,
   "metadata": {},
   "outputs": [
    {
     "data": {
      "text/plain": [
       "target     9.293415\n",
       "length    58.784918\n",
       "dtype: float64"
      ]
     },
     "execution_count": 28,
     "metadata": {},
     "output_type": "execute_result"
    }
   ],
   "source": [
    "datatest.mean(axis = 0, skipna = True) "
   ]
  },
  {
   "cell_type": "code",
   "execution_count": 29,
   "metadata": {},
   "outputs": [
    {
     "data": {
      "text/plain": [
       "target      5.563286\n",
       "length    118.100050\n",
       "dtype: float64"
      ]
     },
     "execution_count": 29,
     "metadata": {},
     "output_type": "execute_result"
    }
   ],
   "source": [
    "datatest.std(axis = 0, skipna = True) "
   ]
  },
  {
   "cell_type": "code",
   "execution_count": 35,
   "metadata": {},
   "outputs": [
    {
     "data": {
      "text/plain": [
       "target     9.267926\n",
       "length    63.100210\n",
       "dtype: float64"
      ]
     },
     "execution_count": 35,
     "metadata": {},
     "output_type": "execute_result"
    }
   ],
   "source": [
    "train_data.mean(axis = 0, skipna = True) "
   ]
  },
  {
   "cell_type": "code",
   "execution_count": 36,
   "metadata": {},
   "outputs": [
    {
     "data": {
      "text/plain": [
       "target      5.558124\n",
       "length    142.415676\n",
       "dtype: float64"
      ]
     },
     "execution_count": 36,
     "metadata": {},
     "output_type": "execute_result"
    }
   ],
   "source": [
    "train_data.std(axis = 0, skipna = True) "
   ]
  },
  {
   "cell_type": "code",
   "execution_count": 37,
   "metadata": {},
   "outputs": [
    {
     "data": {
      "text/plain": [
       "target     9.393283\n",
       "length    61.252762\n",
       "dtype: float64"
      ]
     },
     "execution_count": 37,
     "metadata": {},
     "output_type": "execute_result"
    }
   ],
   "source": [
    "val_data.mean(axis = 0, skipna = True) "
   ]
  },
  {
   "cell_type": "code",
   "execution_count": 38,
   "metadata": {},
   "outputs": [
    {
     "data": {
      "text/plain": [
       "target      5.581166\n",
       "length    128.320115\n",
       "dtype: float64"
      ]
     },
     "execution_count": 38,
     "metadata": {},
     "output_type": "execute_result"
    }
   ],
   "source": [
    "val_data.std(axis = 0, skipna = True) "
   ]
  },
  {
   "cell_type": "code",
   "execution_count": 39,
   "metadata": {},
   "outputs": [],
   "source": [
    "## 20NGfile\n",
    "f = open(\"/home/flokla/Dropbox/Desktop/bachelorarbeit/realshit/Datasets/20NG_short/idocnade/20NG.txt\",\"w\",encoding='utf-8')\n",
    "for index,row in data.iterrows():\n",
    "    if row[\"text\"] == []:\n",
    "        continue\n",
    "    text = \" \".join(row[\"text\"])\n",
    "    f.write(row[\"label\"]+\"\\t\"+text+\"\\n\")\n",
    "f.close()"
   ]
  },
  {
   "cell_type": "code",
   "execution_count": 40,
   "metadata": {},
   "outputs": [],
   "source": [
    "## 20NG train txt\n",
    "f = open(\"/home/flokla/Dropbox/Desktop/bachelorarbeit/realshit/Datasets/20NG_short/idocnade/20NG_train.txt\",\"w\",encoding='utf-8')\n",
    "for index,row in train_data.iterrows():\n",
    "    if row[\"text\"] == []:\n",
    "        continue\n",
    "    text = \" \".join(row[\"text\"])\n",
    "    f.write(row[\"label\"]+\"\\t\"+text+\"\\n\")\n",
    "f.close()\n",
    "\n"
   ]
  },
  {
   "cell_type": "code",
   "execution_count": 41,
   "metadata": {},
   "outputs": [],
   "source": [
    "## 20NG val txt\n",
    "f = open(\"/home/flokla/Dropbox/Desktop/bachelorarbeit/realshit/Datasets/20NG_short/idocnade/20NG_val.txt\",\"w\",encoding='utf-8')\n",
    "for index,row in val_data.iterrows():\n",
    "    if row[\"text\"] == []:\n",
    "        continue\n",
    "    text = \" \".join(row[\"text\"])\n",
    "    f.write(row[\"label\"]+\"\\t\"+text+\"\\n\")\n",
    "f.close()\n"
   ]
  },
  {
   "cell_type": "code",
   "execution_count": 42,
   "metadata": {},
   "outputs": [],
   "source": [
    "## 20NG test txt\n",
    "f = open(\"/home/flokla/Dropbox/Desktop/bachelorarbeit/realshit/Datasets/20NG_short/idocnade/20NG_test.txt\",\"w\",encoding='utf-8')\n",
    "for index,row in datatest.iterrows():\n",
    "    if row[\"text\"] == []:\n",
    "        continue\n",
    "    text = \" \".join(row[\"text\"])\n",
    "    f.write(row[\"label\"]+\"\\t\"+text+\"\\n\")\n",
    "f.close()\n"
   ]
  },
  {
   "cell_type": "code",
   "execution_count": 43,
   "metadata": {},
   "outputs": [],
   "source": [
    "## 20NG text only  txt\n",
    "f = open(\"/home/flokla/Dropbox/Desktop/bachelorarbeit/realshit/Datasets/20NG_short/idocnade/20NGTextonly.txt\",\"w\",encoding='utf-8')\n",
    "for index,row in data.iterrows():\n",
    "    if row[\"text\"] == []:\n",
    "        continue\n",
    "    text = \" \".join(row[\"text\"])\n",
    "    f.write(text+\"\\n\")\n",
    "f.close()"
   ]
  },
  {
   "cell_type": "code",
   "execution_count": 44,
   "metadata": {},
   "outputs": [
    {
     "name": "stderr",
     "output_type": "stream",
     "text": [
      "<ipython-input-44-251e3e68d315>:6: SettingWithCopyWarning: \n",
      "A value is trying to be set on a copy of a slice from a DataFrame\n",
      "\n",
      "See the caveats in the documentation: https://pandas.pydata.org/pandas-docs/stable/user_guide/indexing.html#returning-a-view-versus-a-copy\n",
      "  datatestcsv[\"text\"][index] = \" \".join(row[\"text\"])\n"
     ]
    }
   ],
   "source": [
    "# test.csv\n",
    "datatestcsv = datatest.copy()\n",
    "for index,row in datatestcsv.iterrows():\n",
    "    if row[\"text\"] == []:\n",
    "        continue\n",
    "    datatestcsv[\"text\"][index] = \" \".join(row[\"text\"])\n",
    "datatestcsv.to_csv(path_or_buf=\"/home/flokla/Dropbox/Desktop/bachelorarbeit/realshit/Datasets/20NG_short/idocnade/test.csv\",columns=[\"label\",\"text\"],header=False,index=False,encoding=\"utf-8\",line_terminator=\"\\n\")\n"
   ]
  },
  {
   "cell_type": "code",
   "execution_count": 45,
   "metadata": {},
   "outputs": [
    {
     "name": "stderr",
     "output_type": "stream",
     "text": [
      "<ipython-input-45-858a248a1b6a>:6: SettingWithCopyWarning: \n",
      "A value is trying to be set on a copy of a slice from a DataFrame\n",
      "\n",
      "See the caveats in the documentation: https://pandas.pydata.org/pandas-docs/stable/user_guide/indexing.html#returning-a-view-versus-a-copy\n",
      "  datatraincsv[\"text\"][index] = \" \".join(row[\"text\"])\n"
     ]
    }
   ],
   "source": [
    "# training.csv\n",
    "datatraincsv = train_data.copy()\n",
    "for index,row in datatraincsv.iterrows():\n",
    "    if row[\"text\"] == []:\n",
    "        continue\n",
    "    datatraincsv[\"text\"][index] = \" \".join(row[\"text\"])\n",
    "datatraincsv.to_csv(path_or_buf=\"/home/flokla/Dropbox/Desktop/bachelorarbeit/realshit/Datasets/20NG_short/idocnade/training.csv\",columns=[\"label\",\"text\"],header=False,index=False,encoding=\"utf-8\",line_terminator=\"\\n\")\n"
   ]
  },
  {
   "cell_type": "code",
   "execution_count": 46,
   "metadata": {},
   "outputs": [
    {
     "name": "stderr",
     "output_type": "stream",
     "text": [
      "<ipython-input-46-3a6ba573720e>:6: SettingWithCopyWarning: \n",
      "A value is trying to be set on a copy of a slice from a DataFrame\n",
      "\n",
      "See the caveats in the documentation: https://pandas.pydata.org/pandas-docs/stable/user_guide/indexing.html#returning-a-view-versus-a-copy\n",
      "  datavalcsv[\"text\"][index] = \" \".join(row[\"text\"])\n"
     ]
    }
   ],
   "source": [
    "# validation.csv\n",
    "datavalcsv = val_data.copy()\n",
    "for index,row in datavalcsv.iterrows():\n",
    "    if row[\"text\"] == []:\n",
    "        continue\n",
    "    datavalcsv[\"text\"][index] = \" \".join(row[\"text\"])\n",
    "datavalcsv.to_csv(path_or_buf=\"/home/flokla/Dropbox/Desktop/bachelorarbeit/realshit/Datasets/20NG_short/idocnade/validation.csv\",columns=[\"label\",\"text\"],header=False,index=False,encoding=\"utf-8\",line_terminator=\"\\n\")\n"
   ]
  },
  {
   "cell_type": "code",
   "execution_count": 47,
   "metadata": {},
   "outputs": [
    {
     "name": "stdout",
     "output_type": "stream",
     "text": [
      "11314 7532 18846\n"
     ]
    }
   ],
   "source": [
    "print(len(datatrain),len(datatest),len(data))"
   ]
  },
  {
   "cell_type": "code",
   "execution_count": 48,
   "metadata": {},
   "outputs": [],
   "source": [
    "word2id = dict()\n",
    "i = 0\n",
    "for word in vocab:\n",
    "    word2id[word] = i\n",
    "    i+=1"
   ]
  },
  {
   "cell_type": "code",
   "execution_count": 49,
   "metadata": {},
   "outputs": [],
   "source": [
    "from sklearn.datasets import fetch_20newsgroups\n",
    "newsgroups_train = fetch_20newsgroups(subset='train')\n",
    "label_mapping = dict()\n",
    "i = 0\n",
    "for word in newsgroups_train.target_names:\n",
    "    label_mapping[word]=i\n",
    "    i+=1"
   ]
  },
  {
   "cell_type": "code",
   "execution_count": 50,
   "metadata": {},
   "outputs": [],
   "source": [
    "#test_docnade.xlsx\n",
    "with open(\"/home/flokla/Dropbox/Desktop/bachelorarbeit/realshit/Datasets/20NG_short/idocnade/20NG_test.txt\", \"r\") as f:\n",
    "    content = f.readlines()\n",
    "content = [x.strip() for x in content] \n",
    "content= [x.split(\"\\t\") for x in content]\n",
    "csvfile = pd.DataFrame(content,columns=[\"label\",\"text\"])\n",
    "for index,row in csvfile.iterrows():\n",
    "    id_string = str()\n",
    "    for word in row[\"text\"].split():\n",
    "        id_string += \" \"+str(word2id[word])\n",
    "    label_id = label_mapping[row[\"label\"]]    \n",
    "    csvfile[\"text\"][index] = id_string\n",
    "    csvfile[\"label\"][index] = label_id\n",
    "csvfile.to_csv(path_or_buf=\"/home/flokla/Dropbox/Desktop/bachelorarbeit/realshit/Datasets/20NG_short/idocnade/test_docnade.csv\",columns=[\"label\",\"text\"],header=False,index=False,encoding=\"utf-8\",line_terminator=\"\\n\")    "
   ]
  },
  {
   "cell_type": "code",
   "execution_count": 51,
   "metadata": {},
   "outputs": [],
   "source": [
    "#training_docnade.xlsx\n",
    "with open(\"/home/flokla/Dropbox/Desktop/bachelorarbeit/realshit/Datasets/20NG_short/idocnade/20NG_train.txt\", \"r\") as f:\n",
    "    content = f.readlines()\n",
    "content = [x.strip() for x in content] \n",
    "content= [x.split(\"\\t\") for x in content]\n",
    "csvfile = pd.DataFrame(content,columns=[\"label\",\"text\"])\n",
    "\n",
    "for index,row in csvfile.iterrows():\n",
    "    id_string = str()\n",
    "    for word in row[\"text\"].split():\n",
    "        id_string += \" \"+str(word2id[word])\n",
    "    label_id = label_mapping[row[\"label\"]]    \n",
    "    csvfile[\"text\"][index] = id_string\n",
    "    csvfile[\"label\"][index] = label_id\n",
    "csvfile.to_csv(path_or_buf=\"/home/flokla/Dropbox/Desktop/bachelorarbeit/realshit/Datasets/20NG_short/idocnade/training_docnade.csv\",columns=[\"label\",\"text\"],header=False,index=False,encoding=\"utf-8\",line_terminator=\"\\n\")"
   ]
  },
  {
   "cell_type": "code",
   "execution_count": 53,
   "metadata": {},
   "outputs": [],
   "source": [
    "#validation_docnade.xlsx\n",
    "with open(\"/home/flokla/Dropbox/Desktop/bachelorarbeit/realshit/Datasets/20NG_short/idocnade/20NG_val.txt\", \"r\") as f:\n",
    "    content = f.readlines()\n",
    "content = [x.strip() for x in content] \n",
    "content= [x.split(\"\\t\") for x in content]\n",
    "csvfile = pd.DataFrame(content,columns=[\"label\",\"text\"])\n",
    "csvfile.head()\n",
    "for index,row in csvfile.iterrows():\n",
    "    id_string = str()\n",
    "    for word in row[\"text\"].split():\n",
    "        id_string += \" \"+str(word2id[word])\n",
    "    label_id = label_mapping[row[\"label\"]]    \n",
    "    csvfile[\"text\"][index] = id_string\n",
    "    csvfile[\"label\"][index] = label_id\n",
    "csvfile.to_csv(path_or_buf=\"/home/flokla/Dropbox/Desktop/bachelorarbeit/realshit/Datasets/20NG_short/idocnade/validation_docnade.csv\",columns=[\"label\",\"text\"],header=False,index=False,encoding=\"utf-8\",line_terminator=\"\\n\")"
   ]
  },
  {
   "cell_type": "code",
   "execution_count": null,
   "metadata": {},
   "outputs": [],
   "source": []
  },
  {
   "cell_type": "code",
   "execution_count": null,
   "metadata": {},
   "outputs": [],
   "source": []
  },
  {
   "cell_type": "code",
   "execution_count": null,
   "metadata": {},
   "outputs": [],
   "source": []
  }
 ],
 "metadata": {
  "kernelspec": {
   "display_name": "Python 3",
   "language": "python",
   "name": "python3"
  },
  "language_info": {
   "codemirror_mode": {
    "name": "ipython",
    "version": 3
   },
   "file_extension": ".py",
   "mimetype": "text/x-python",
   "name": "python",
   "nbconvert_exporter": "python",
   "pygments_lexer": "ipython3",
   "version": "3.8.5"
  }
 },
 "nbformat": 4,
 "nbformat_minor": 4
}
